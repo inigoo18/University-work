{
 "cells": [
  {
   "cell_type": "markdown",
   "metadata": {},
   "source": [
    "# 0. Exercise on plate notation"
   ]
  },
  {
   "cell_type": "markdown",
   "metadata": {},
   "source": [
    "Plate notation can also be used to represented repeated substructure with shared parameters (conditional probability distributions). \n",
    "\n",
    "<img src=\"./skills.png\" alt=\"Drawing\">\n",
    "\n",
    "Assume that we have two students and two course. What does the unfolded models for the two plate models above look like?"
   ]
  },
  {
   "cell_type": "markdown",
   "metadata": {
    "id": "a75mGrGgL-0g"
   },
   "source": [
    "<img src=\"https://github.com/PGM-Lab/probai-2021-pyro/blob/main/Day1/Figures/blue.png?raw=1\" alt=\"Drawing\" width=2000 height=20>\n",
    "\n",
    "\n",
    "# Setup\n",
    "We will now continue with more Pyro relateed exercises. Let's begin by installing and importing the modules we'll need."
   ]
  },
  {
   "cell_type": "code",
   "execution_count": 1,
   "metadata": {
    "id": "7Owp2eKrL-0j"
   },
   "outputs": [
    {
     "name": "stderr",
     "output_type": "stream",
     "text": [
      "C:\\Users\\inigo\\anaconda3\\lib\\site-packages\\numpy\\_distributor_init.py:30: UserWarning: loaded more than 1 DLL from .libs:\n",
      "C:\\Users\\inigo\\anaconda3\\lib\\site-packages\\numpy\\.libs\\libopenblas.EL2C6PLE4ZYW3ECEVIV3OXXGRN2NRFM2.gfortran-win_amd64.dll\n",
      "C:\\Users\\inigo\\anaconda3\\lib\\site-packages\\numpy\\.libs\\libopenblas.WCDJNK7YVMPZQ2ME2ZZHJJRJ3JIKNDB7.gfortran-win_amd64.dll\n",
      "  warnings.warn(\"loaded more than 1 DLL from .libs:\"\n"
     ]
    }
   ],
   "source": [
    "#!pip install -q --upgrade pyro-ppl torch\n",
    "import pyro\n",
    "import torch\n",
    "import pyro.distributions as dist"
   ]
  },
  {
   "cell_type": "markdown",
   "metadata": {},
   "source": [
    "### **<span style=\"color:red\">Exercise introduction</span>**\n",
    "\n",
    "The main goal with the exercises below is to get some experience with probabilistic modeling. Here we exemplify modeling using Pyro, but any other probabilistic programming language could also have been used.\n",
    "\n",
    "There are two explicit exercises embedded in this notebook (marked with red as above). Before working on these exercises, step carefully through the notebook leading up to the exercises and make sure that you have a good understanding on what is done in the individual steps."
   ]
  },
  {
   "cell_type": "markdown",
   "metadata": {
    "id": "I-EvHtlvL-0k"
   },
   "source": [
    "<img src=\"https://github.com/PGM-Lab/probai-2021-pyro/blob/main/Day1/Figures/blue.png?raw=1\" alt=\"Drawing\" width=2000 height=20>\n",
    "\n",
    "\n",
    "# 1. **Pyro’s distributions**:\n",
    "\n",
    "\n",
    "Pyro provides a wide range of distributions: **Normal, Beta, Cauchy, Dirichlet, Gumbel, Poisson, Pareto, etc.**"
   ]
  },
  {
   "cell_type": "code",
   "execution_count": 2,
   "metadata": {
    "colab": {
     "base_uri": "https://localhost:8080/"
    },
    "id": "_w52OifSL-0l",
    "outputId": "f18fed03-42e0-44af-d852-ffc4f11cd71c"
   },
   "outputs": [
    {
     "data": {
      "text/plain": [
       "Normal(loc: 0.0, scale: 1.0)"
      ]
     },
     "execution_count": 2,
     "metadata": {},
     "output_type": "execute_result"
    }
   ],
   "source": [
    "normal = dist.Normal(0,1)\n",
    "normal"
   ]
  },
  {
   "cell_type": "markdown",
   "metadata": {
    "id": "yOSdcF4_L-0m"
   },
   "source": [
    "\n",
    "<img src=\"https://github.com/PGM-Lab/probai-2021-pyro/blob/main/Day1/Figures/blue.png?raw=1\" alt=\"Drawing\" width=2000 height=20>\n",
    "\n",
    "Samples from the distributions are [Pytorch’s Tensor objects](https://pytorch.org/cppdocs/notes/tensor_creation.html) (i.e. multidimensional arrays)."
   ]
  },
  {
   "cell_type": "code",
   "execution_count": 3,
   "metadata": {
    "colab": {
     "base_uri": "https://localhost:8080/"
    },
    "id": "wloQxYMXL-0m",
    "outputId": "272451fe-b15d-4643-e9ff-efcb352cdcbc"
   },
   "outputs": [
    {
     "data": {
      "text/plain": [
       "tensor(-0.9607)"
      ]
     },
     "execution_count": 3,
     "metadata": {},
     "output_type": "execute_result"
    }
   ],
   "source": [
    "sample = normal.sample()\n",
    "sample"
   ]
  },
  {
   "cell_type": "code",
   "execution_count": 4,
   "metadata": {
    "colab": {
     "base_uri": "https://localhost:8080/"
    },
    "id": "2h2iOp-qL-0o",
    "outputId": "8eaffb2b-1e5f-4a15-c388-b3100c75c89c"
   },
   "outputs": [
    {
     "data": {
      "text/plain": [
       "tensor([[ 0.4042, -1.4671,  0.5974,  1.0964],\n",
       "        [-0.1204,  0.8614, -1.1422,  1.3453],\n",
       "        [-0.7444, -0.7258, -0.2351,  1.3335]])"
      ]
     },
     "execution_count": 4,
     "metadata": {},
     "output_type": "execute_result"
    }
   ],
   "source": [
    "sample = normal.sample(sample_shape=[3,4])\n",
    "sample"
   ]
  },
  {
   "cell_type": "markdown",
   "metadata": {
    "id": "r-0pNd9tL-0o"
   },
   "source": [
    "<img src=\"https://github.com/PGM-Lab/probai-2021-pyro/blob/main/Day1/Figures/blue.png?raw=1\" alt=\"Drawing\" width=2000 height=20>\n",
    "\n",
    "We can query the **dimensionlity** of a tensor with the ``shape`` property\n"
   ]
  },
  {
   "cell_type": "code",
   "execution_count": 5,
   "metadata": {
    "colab": {
     "base_uri": "https://localhost:8080/"
    },
    "id": "Dk2ebGoYL-0p",
    "outputId": "d553bd14-40e5-436a-d069-71cbff41d935"
   },
   "outputs": [
    {
     "data": {
      "text/plain": [
       "torch.Size([3, 4, 5])"
      ]
     },
     "execution_count": 5,
     "metadata": {},
     "output_type": "execute_result"
    }
   ],
   "source": [
    "sample = normal.sample(sample_shape=[3,4,5])\n",
    "sample.shape"
   ]
  },
  {
   "cell_type": "code",
   "execution_count": 7,
   "metadata": {},
   "outputs": [
    {
     "data": {
      "text/plain": [
       "tensor([[[-0.0810, -0.1503, -2.2582,  0.0239, -1.3097],\n",
       "         [ 1.1464,  0.6771,  0.5353, -0.0696, -0.8264],\n",
       "         [-0.7196, -1.0317, -0.2483, -0.1814, -0.9101],\n",
       "         [-2.3055,  0.4203, -0.6711,  1.1047,  1.3027]],\n",
       "\n",
       "        [[-1.1887,  0.5591, -1.2324, -0.1357,  0.6271],\n",
       "         [-0.4704, -0.1368,  0.6603,  0.7904, -0.0499],\n",
       "         [ 1.6824,  1.7526, -0.4657,  1.1854,  0.1990],\n",
       "         [ 0.1606, -0.1390, -0.4028, -0.0093,  1.0271]],\n",
       "\n",
       "        [[ 2.2525,  0.8849, -0.5006,  0.6443,  0.6192],\n",
       "         [ 0.0784,  1.7013, -0.0458,  0.2899,  1.5349],\n",
       "         [-0.5962,  0.6479,  0.3292,  0.1055,  0.3688],\n",
       "         [-0.7919, -0.5380,  0.1249,  0.2530, -1.5836]]])"
      ]
     },
     "execution_count": 7,
     "metadata": {},
     "output_type": "execute_result"
    }
   ],
   "source": [
    "sample"
   ]
  },
  {
   "cell_type": "markdown",
   "metadata": {
    "id": "DsVjombqL-0p"
   },
   "source": [
    "\n",
    "<img src=\"https://github.com/PGM-Lab/probai-2021-pyro/blob/main/Day1/Figures/blue.png?raw=1\" alt=\"Drawing\" width=2000 height=20>\n",
    "\n",
    "\n",
    "Operations, like **log-likelihood**, are defined over tensors."
   ]
  },
  {
   "cell_type": "code",
   "execution_count": 6,
   "metadata": {
    "colab": {
     "base_uri": "https://localhost:8080/"
    },
    "id": "06G293JdL-0p",
    "outputId": "0df20f93-17dc-4f9a-eb0e-7ace95dbb896"
   },
   "outputs": [
    {
     "data": {
      "text/plain": [
       "tensor([[[-0.9222, -0.9302, -3.4688, -0.9192, -1.7765],\n",
       "         [-1.5761, -1.1482, -1.0622, -0.9214, -1.2604],\n",
       "         [-1.1778, -1.4511, -0.9498, -0.9354, -1.3330],\n",
       "         [-3.5766, -1.0073, -1.1441, -1.5291, -1.7674]],\n",
       "\n",
       "        [[-1.6254, -1.0752, -1.6784, -0.9281, -1.1155],\n",
       "         [-1.0296, -0.9283, -1.1369, -1.2313, -0.9202],\n",
       "         [-2.3342, -2.4548, -1.0274, -1.6216, -0.9387],\n",
       "         [-0.9318, -0.9286, -1.0001, -0.9190, -1.4464]],\n",
       "\n",
       "        [[-3.4559, -1.3104, -1.0442, -1.1265, -1.1106],\n",
       "         [-0.9220, -2.3662, -0.9200, -0.9610, -2.0968],\n",
       "         [-1.0966, -1.1288, -0.9731, -0.9245, -0.9869],\n",
       "         [-1.2325, -1.0637, -0.9267, -0.9509, -2.1729]]])"
      ]
     },
     "execution_count": 6,
     "metadata": {},
     "output_type": "execute_result"
    }
   ],
   "source": [
    "normal.log_prob(sample)"
   ]
  },
  {
   "cell_type": "code",
   "execution_count": 7,
   "metadata": {
    "colab": {
     "base_uri": "https://localhost:8080/"
    },
    "id": "R3v2rpRAL-0q",
    "outputId": "0eb47a0c-2d77-4a1b-c497-f7c7fa8cc8fd"
   },
   "outputs": [
    {
     "data": {
      "text/plain": [
       "tensor(-88.8787)"
      ]
     },
     "execution_count": 7,
     "metadata": {},
     "output_type": "execute_result"
    }
   ],
   "source": [
    "torch.sum(normal.log_prob(sample))"
   ]
  },
  {
   "cell_type": "markdown",
   "metadata": {
    "id": "zErtSTzYL-0q"
   },
   "source": [
    "<img src=\"https://github.com/PGM-Lab/probai-2021-pyro/blob/main/Day1/Figures/blue.png?raw=1\" alt=\"Drawing\" width=2000 height=20>\n",
    "\n",
    "Multiple distributions can be embedded in single object. Below we define three Normal distributions with different means but the same scale in a single object."
   ]
  },
  {
   "cell_type": "code",
   "execution_count": 8,
   "metadata": {
    "colab": {
     "base_uri": "https://localhost:8080/"
    },
    "id": "VEcgGuTqL-0q",
    "outputId": "87ab00ff-0912-43b2-b436-d0a41623ff0c"
   },
   "outputs": [
    {
     "data": {
      "text/plain": [
       "Normal(loc: torch.Size([3]), scale: torch.Size([3]))"
      ]
     },
     "execution_count": 8,
     "metadata": {},
     "output_type": "execute_result"
    }
   ],
   "source": [
    "normal = dist.Normal(torch.tensor([1.,2.,3.]),1.)\n",
    "normal"
   ]
  },
  {
   "cell_type": "code",
   "execution_count": 9,
   "metadata": {
    "colab": {
     "base_uri": "https://localhost:8080/"
    },
    "id": "1cRRDgTbL-0r",
    "outputId": "c3cb91db-4df7-4c31-c7af-cbefa0c00fa6"
   },
   "outputs": [
    {
     "data": {
      "text/plain": [
       "tensor([1.0335, 4.7399, 3.1365])"
      ]
     },
     "execution_count": 9,
     "metadata": {},
     "output_type": "execute_result"
    }
   ],
   "source": [
    "normal.sample()"
   ]
  },
  {
   "cell_type": "code",
   "execution_count": 10,
   "metadata": {
    "colab": {
     "base_uri": "https://localhost:8080/"
    },
    "id": "hji5mTnhL-0r",
    "outputId": "81f829da-251b-451c-8ada-231c504ed564"
   },
   "outputs": [
    {
     "data": {
      "text/plain": [
       "tensor([-0.9192, -5.2395, -0.9228])"
      ]
     },
     "execution_count": 10,
     "metadata": {},
     "output_type": "execute_result"
    }
   ],
   "source": [
    "normal.log_prob(normal.sample())"
   ]
  },
  {
   "cell_type": "markdown",
   "metadata": {},
   "source": [
    "<img src=\"https://github.com/PGM-Lab/probai-2021-pyro/blob/main/Day1/Figures/blue.png?raw=1\" alt=\"Drawing\" width=2000 height=20>\n",
    "\n",
    "### **<span style=\"color:red\">Exercise: Open the notebook and play around</span>**\n",
    "\n",
    "* Test that everything works.\n",
    "* Play a bit with the code in Section 1 of the notebook."
   ]
  },
  {
   "cell_type": "markdown",
   "metadata": {
    "id": "drChKHsWJ--U"
   },
   "source": [
    "<img src=\"https://github.com/PGM-Lab/probai-2021-pyro/blob/main/Day1/Figures/blue.png?raw=1\" alt=\"Drawing\" width=2000 height=20>"
   ]
  },
  {
   "cell_type": "markdown",
   "metadata": {
    "id": "WV-iBl4xL-0r"
   },
   "source": [
    "# 2. **Pyro’s models**:\n",
    "\n",
    "---\n",
    "* In Pyro, a probabilistic model is defined as a **stochastic function** (i.e. every time it is run, it returns a new sample).\n",
    "\n",
    "* Each random variable is associated with a **primitive stochastic function** using the construct ``pyro.sample(...)``.\n",
    "---\n",
    "\n",
    "\n",
    "### 2.1 A Temperature Model\n",
    "\n",
    "\n",
    "\n",
    "As initial running example, we consider the problem of **modelling the temperature**. We first start with a simple model where temperture is modeled using a random Normal variable."
   ]
  },
  {
   "cell_type": "code",
   "execution_count": 11,
   "metadata": {
    "colab": {
     "base_uri": "https://localhost:8080/"
    },
    "id": "kcU2EmBYL-0s",
    "outputId": "85b746ff-d42c-4f76-bb0b-36e20459ded8"
   },
   "outputs": [
    {
     "name": "stdout",
     "output_type": "stream",
     "text": [
      "tensor(11.5256)\n",
      "tensor(14.0638)\n"
     ]
    }
   ],
   "source": [
    "def model():\n",
    "    temp = pyro.sample('temp', dist.Normal(15.0, 2.0))\n",
    "    return temp\n",
    "\n",
    "print(model())\n",
    "print(model())"
   ]
  },
  {
   "cell_type": "markdown",
   "metadata": {
    "id": "N0pVeOVpL-0s"
   },
   "source": [
    "See how the model is a stochastic function which **returns a different value everytime it is invoked**. \n",
    "\n",
    "<img src=\"https://github.com/PGM-Lab/probai-2021-pyro/blob/main/Day1/Figures/blue.png?raw=1\" alt=\"Drawing\" width=2000 height=20>\n"
   ]
  },
  {
   "cell_type": "markdown",
   "metadata": {
    "id": "Z0biYXEVL-0s"
   },
   "source": [
    "### 2.2 A Temperature-Sensor Model"
   ]
  },
  {
   "cell_type": "markdown",
   "metadata": {
    "id": "Jp6wefVaLCnx"
   },
   "source": [
    "In Pyro, a stochastic method is defined as a composition of primitive stochastic functions.\n",
    "\n",
    "*The temperature Model:* \n",
    "\n",
    "We consider the relation between the temperature and a sensor. \n",
    "  * The temperature sensor gives **noisy observations** about the real temperature.\n",
    "  * The **error** of the sensor's measurements **is known**."
   ]
  },
  {
   "cell_type": "code",
   "execution_count": 12,
   "metadata": {
    "colab": {
     "base_uri": "https://localhost:8080/"
    },
    "id": "VpxheEx-L-0t",
    "outputId": "5b1a9091-5f3c-46e7-dfc6-5dbae839d9ea"
   },
   "outputs": [
    {
     "data": {
      "text/plain": [
       "(tensor(13.2583), tensor(12.9058))"
      ]
     },
     "execution_count": 12,
     "metadata": {},
     "output_type": "execute_result"
    }
   ],
   "source": [
    "def model():\n",
    "    temp = pyro.sample('temp', dist.Normal(15.0, 2.0))\n",
    "    sensor = pyro.sample('sensor', dist.Normal(temp, 1.0))\n",
    "    return (temp, sensor)\n",
    "\n",
    "out1 = model()\n",
    "out1"
   ]
  },
  {
   "cell_type": "code",
   "execution_count": 13,
   "metadata": {},
   "outputs": [
    {
     "data": {
      "image/svg+xml": [
       "<?xml version=\"1.0\" encoding=\"UTF-8\" standalone=\"no\"?>\n",
       "<!DOCTYPE svg PUBLIC \"-//W3C//DTD SVG 1.1//EN\"\n",
       " \"http://www.w3.org/Graphics/SVG/1.1/DTD/svg11.dtd\">\n",
       "<!-- Generated by graphviz version 5.0.0 (20220707.1540)\n",
       " -->\n",
       "<!-- Pages: 1 -->\n",
       "<svg width=\"74pt\" height=\"116pt\"\n",
       " viewBox=\"0.00 0.00 74.29 116.00\" xmlns=\"http://www.w3.org/2000/svg\" xmlns:xlink=\"http://www.w3.org/1999/xlink\">\n",
       "<g id=\"graph0\" class=\"graph\" transform=\"scale(1 1) rotate(0) translate(4 112)\">\n",
       "<polygon fill=\"white\" stroke=\"transparent\" points=\"-4,4 -4,-112 70.29,-112 70.29,4 -4,4\"/>\n",
       "<!-- temp -->\n",
       "<g id=\"node1\" class=\"node\">\n",
       "<title>temp</title>\n",
       "<ellipse fill=\"white\" stroke=\"black\" cx=\"33.15\" cy=\"-90\" rx=\"28.7\" ry=\"18\"/>\n",
       "<text text-anchor=\"middle\" x=\"33.15\" y=\"-86.3\" font-family=\"Times,serif\" font-size=\"14.00\">temp</text>\n",
       "</g>\n",
       "<!-- sensor -->\n",
       "<g id=\"node2\" class=\"node\">\n",
       "<title>sensor</title>\n",
       "<ellipse fill=\"white\" stroke=\"black\" cx=\"33.15\" cy=\"-18\" rx=\"33.29\" ry=\"18\"/>\n",
       "<text text-anchor=\"middle\" x=\"33.15\" y=\"-14.3\" font-family=\"Times,serif\" font-size=\"14.00\">sensor</text>\n",
       "</g>\n",
       "<!-- temp&#45;&gt;sensor -->\n",
       "<g id=\"edge1\" class=\"edge\">\n",
       "<title>temp&#45;&gt;sensor</title>\n",
       "<path fill=\"none\" stroke=\"black\" d=\"M33.15,-71.7C33.15,-63.98 33.15,-54.71 33.15,-46.11\"/>\n",
       "<polygon fill=\"black\" stroke=\"black\" points=\"36.65,-46.1 33.15,-36.1 29.65,-46.1 36.65,-46.1\"/>\n",
       "</g>\n",
       "</g>\n",
       "</svg>\n"
      ],
      "text/plain": [
       "<graphviz.graphs.Digraph at 0x109743f10>"
      ]
     },
     "execution_count": 13,
     "metadata": {},
     "output_type": "execute_result"
    }
   ],
   "source": [
    "#Visualize the model\n",
    "pyro.render_model(model)"
   ]
  },
  {
   "cell_type": "markdown",
   "metadata": {
    "id": "XSXTeNtqL-0t"
   },
   "source": [
    "The above method defines a joint probability distribution:\n",
    "$$p(sensor, temp) = p(sensor|temp)p(temp)$$\n",
    "\n",
    "\n",
    "In this case, we have a simple dependency between the variables. But, as we are in a PPL, dependencies can be expressed in terms of complex deterministic functions (more examples later).\n",
    "<img src=\"https://github.com/PGM-Lab/probai-2021-pyro/blob/main/Day1/Figures/blue.png?raw=1\" alt=\"Drawing\" width=2000 height=20>\n"
   ]
  },
  {
   "cell_type": "markdown",
   "metadata": {
    "id": "CCayVyTsL-0t"
   },
   "source": [
    "# 3. **Pyro’s inference** :"
   ]
  },
  {
   "cell_type": "markdown",
   "metadata": {
    "id": "QyC3v0cyL-0u"
   },
   "source": [
    "### Auxiliary inference functions\n",
    "\n",
    "To make inference on Pyro, we will use a variational inference method, which performs gradient-based optimization to solve the inference problem. More details on variational inference will follow in the next lecture. "
   ]
  },
  {
   "cell_type": "code",
   "execution_count": 14,
   "metadata": {
    "id": "arZOTC7gL-0u",
    "tags": []
   },
   "outputs": [],
   "source": [
    "from torch.distributions import constraints\n",
    "from pyro.optim import SGD\n",
    "from pyro.infer import Trace_ELBO\n",
    "import matplotlib.pyplot as plt\n",
    "from pyro.contrib.autoguide import AutoNormal\n",
    "\n",
    "\n",
    "def svi(model, obs, guide=None, num_steps = 500, plot = False, verbose=False, lr=0.01):\n",
    "    \n",
    "    torch.manual_seed(999)\n",
    "\n",
    "    pyro.clear_param_store()\n",
    "    \n",
    "    if guide is None:\n",
    "        guide = AutoNormal(model)\n",
    "    \n",
    "    svi = pyro.infer.SVI(model=model,\n",
    "                         guide=guide,\n",
    "                         optim=SGD({\"lr\": lr, \"momentum\":0.1}),\n",
    "                         loss=Trace_ELBO())\n",
    "\n",
    "    losses, a,b  = [], [], []\n",
    "    \n",
    "    for t in range(num_steps):\n",
    "        losses.append(svi.step(obs))\n",
    "        if t%100==0:\n",
    "            print('Step: '+str(t)+'. Loss: ' +str(losses[-1]))\n",
    "            \n",
    "\n",
    "    if (plot):\n",
    "        plt.plot(losses)\n",
    "        plt.title(\"ELBO\")\n",
    "        plt.xlabel(\"step\")\n",
    "        plt.ylabel(\"loss\");\n",
    "        plt.show()\n",
    "        \n",
    "    if verbose:\n",
    "        print(\"Inference results:\")\n",
    "        for name, value in pyro.get_param_store().items():\n",
    "            print(name, pyro.param(name))"
   ]
  },
  {
   "cell_type": "markdown",
   "metadata": {
    "id": "ovLJGQtcPlBt"
   },
   "source": [
    "A few notes on guides:\n",
    "* To make inference in Pyro over a given model we need to define a *guide*, this *guide* has the same signature as its counterpart model. \n",
    "\n",
    "* The guide must provide samples for those variables of the model which are not observed. Again the ``pyro.sample`` construct. \n",
    "\n",
    "* Guides are also parametrized using Pyro's parameters (``pyro.param``), so the variational inference algorithm will optimize these parameters. \n",
    "\n",
    "* All of this will be explained in detail during the next lecture."
   ]
  },
  {
   "cell_type": "markdown",
   "metadata": {
    "id": "mkkHJOFBL-0u"
   },
   "source": [
    "<img src=\"https://github.com/PGM-Lab/probai-2021-pyro/blob/main/Day1/Figures/blue.png?raw=1\" alt=\"Drawing\" width=2000 height=20>\n",
    "\n",
    "### 3.1  Conditioning on a single observation\n",
    "\n",
    "Now, we continue with the last model defined in section 2.2, and assume we have a sensor reading and we want to compute the posterior distribution over the real temperature. \n",
    "\n",
    "This can be achived by introducing **observations in the random variable** with the keyword ``obs=``."
   ]
  },
  {
   "cell_type": "code",
   "execution_count": 15,
   "metadata": {
    "id": "TSzNRm7wL-0v"
   },
   "outputs": [],
   "source": [
    "#The observatons   \n",
    "obs = {'sensor': torch.tensor(18.0)}\n",
    "\n",
    "def model(obs):\n",
    "    temp = pyro.sample('temp', dist.Normal(15.0, 2.0))\n",
    "    sensor = pyro.sample('sensor', dist.Normal(temp, 1.0), obs=obs['sensor'])"
   ]
  },
  {
   "cell_type": "code",
   "execution_count": 16,
   "metadata": {},
   "outputs": [
    {
     "data": {
      "image/svg+xml": [
       "<?xml version=\"1.0\" encoding=\"UTF-8\" standalone=\"no\"?>\n",
       "<!DOCTYPE svg PUBLIC \"-//W3C//DTD SVG 1.1//EN\"\n",
       " \"http://www.w3.org/Graphics/SVG/1.1/DTD/svg11.dtd\">\n",
       "<!-- Generated by graphviz version 5.0.0 (20220707.1540)\n",
       " -->\n",
       "<!-- Pages: 1 -->\n",
       "<svg width=\"74pt\" height=\"116pt\"\n",
       " viewBox=\"0.00 0.00 74.29 116.00\" xmlns=\"http://www.w3.org/2000/svg\" xmlns:xlink=\"http://www.w3.org/1999/xlink\">\n",
       "<g id=\"graph0\" class=\"graph\" transform=\"scale(1 1) rotate(0) translate(4 112)\">\n",
       "<polygon fill=\"white\" stroke=\"transparent\" points=\"-4,4 -4,-112 70.29,-112 70.29,4 -4,4\"/>\n",
       "<!-- temp -->\n",
       "<g id=\"node1\" class=\"node\">\n",
       "<title>temp</title>\n",
       "<ellipse fill=\"white\" stroke=\"black\" cx=\"33.15\" cy=\"-90\" rx=\"28.7\" ry=\"18\"/>\n",
       "<text text-anchor=\"middle\" x=\"33.15\" y=\"-86.3\" font-family=\"Times,serif\" font-size=\"14.00\">temp</text>\n",
       "</g>\n",
       "<!-- sensor -->\n",
       "<g id=\"node2\" class=\"node\">\n",
       "<title>sensor</title>\n",
       "<ellipse fill=\"gray\" stroke=\"black\" cx=\"33.15\" cy=\"-18\" rx=\"33.29\" ry=\"18\"/>\n",
       "<text text-anchor=\"middle\" x=\"33.15\" y=\"-14.3\" font-family=\"Times,serif\" font-size=\"14.00\">sensor</text>\n",
       "</g>\n",
       "<!-- temp&#45;&gt;sensor -->\n",
       "<g id=\"edge1\" class=\"edge\">\n",
       "<title>temp&#45;&gt;sensor</title>\n",
       "<path fill=\"none\" stroke=\"black\" d=\"M33.15,-71.7C33.15,-63.98 33.15,-54.71 33.15,-46.11\"/>\n",
       "<polygon fill=\"black\" stroke=\"black\" points=\"36.65,-46.1 33.15,-36.1 29.65,-46.1 36.65,-46.1\"/>\n",
       "</g>\n",
       "</g>\n",
       "</svg>\n"
      ],
      "text/plain": [
       "<graphviz.graphs.Digraph at 0x10977f400>"
      ]
     },
     "execution_count": 16,
     "metadata": {},
     "output_type": "execute_result"
    }
   ],
   "source": [
    "#Visualize the model\n",
    "pyro.render_model(model, model_args=(obs, ))"
   ]
  },
  {
   "cell_type": "markdown",
   "metadata": {
    "id": "nH3PgF4wL-0w"
   },
   "source": [
    "<img src=\"https://github.com/PGM-Lab/probai-2021-pyro/blob/main/Day1/Figures/blue.png?raw=1\" alt=\"Drawing\" width=2000 height=20>\n",
    "\n",
    "\n",
    "Inference is made using the previously defined auxiliary functions, ``svi`` and ``guide``. \n",
    "\n",
    "We can query the **posterior probability distribution**: \n",
    "\n",
    "\n",
    "$$p(temp | sensor=18)=\\frac{p(sensor=18|temp)p(temp)}{\\int p(sensor=18|temp)p(temp) dtemp}$$"
   ]
  },
  {
   "cell_type": "code",
   "execution_count": 18,
   "metadata": {
    "colab": {
     "base_uri": "https://localhost:8080/",
     "height": 717
    },
    "id": "VObMyZQ_L-0w",
    "outputId": "364de9bd-0057-4a6e-86fe-5581363bfb96"
   },
   "outputs": [
    {
     "name": "stdout",
     "output_type": "stream",
     "text": [
      "Step: 0. Loss: 192.94428050518036\n",
      "Step: 100. Loss: 16.130565762519836\n",
      "Step: 200. Loss: 4.167756795883179\n",
      "Step: 300. Loss: 2.995791018009186\n",
      "Step: 400. Loss: 2.7210439443588257\n"
     ]
    },
    {
     "data": {
      "image/png": "[encoded data removed]",
      "text/plain": [
       "<Figure size 640x480 with 1 Axes>"
      ]
     },
     "metadata": {},
     "output_type": "display_data"
    },
    {
     "name": "stdout",
     "output_type": "stream",
     "text": [
      "P(Temperature|Sensor=18.0) = \n",
      "Normal(loc: 17.31157684326172, scale: 0.8847724795341492)\n",
      "\n"
     ]
    }
   ],
   "source": [
    "#Run inference\n",
    "svi(model,obs, plot=True)\n",
    "\n",
    "#Print results\n",
    "print(\"P(Temperature|Sensor=18.0) = \")\n",
    "print(dist.Normal(pyro.param(\"AutoNormal.locs.temp\").item(), pyro.param(\"AutoNormal.scales.temp\").item()))\n",
    "print(\"\")"
   ]
  },
  {
   "cell_type": "markdown",
   "metadata": {
    "id": "WAbW6UoTL-0x"
   },
   "source": [
    "### 3.2  Learning from a bunch of observations\n",
    "\n",
    "Let us assume we have a **set of observations** about the temperature at different time steps. \n",
    "\n",
    "* Following a probabilistic modelling approach, we define a **set of random variables**.\n",
    "\n",
    "* One random variable for each **observation**, using a standard ``for-loop``.\n"
   ]
  },
  {
   "cell_type": "code",
   "execution_count": 19,
   "metadata": {
    "id": "w2bPy-D4L-0x"
   },
   "outputs": [],
   "source": [
    "#The observatons   \n",
    "obs = {'sensor': torch.tensor([18., 18.7, 19.2, 17.8, 20.3, 22.4, 20.3, 21.2, 19.5, 20.1])}\n",
    "\n",
    "def model(obs):\n",
    "    for i in range(obs['sensor'].shape[0]):\n",
    "        temp = pyro.sample(f'temp_{i}', dist.Normal(15.0, 2.0))\n",
    "        sensor = pyro.sample(f'sensor_{i}', dist.Normal(temp, 1.0), obs=obs['sensor'][i])"
   ]
  },
  {
   "cell_type": "code",
   "execution_count": 20,
   "metadata": {},
   "outputs": [
    {
     "data": {
      "image/svg+xml": [
       "<?xml version=\"1.0\" encoding=\"UTF-8\" standalone=\"no\"?>\n",
       "<!DOCTYPE svg PUBLIC \"-//W3C//DTD SVG 1.1//EN\"\n",
       " \"http://www.w3.org/Graphics/SVG/1.1/DTD/svg11.dtd\">\n",
       "<!-- Generated by graphviz version 5.0.0 (20220707.1540)\n",
       " -->\n",
       "<!-- Pages: 1 -->\n",
       "<svg width=\"1010pt\" height=\"116pt\"\n",
       " viewBox=\"0.00 0.00 1010.49 116.00\" xmlns=\"http://www.w3.org/2000/svg\" xmlns:xlink=\"http://www.w3.org/1999/xlink\">\n",
       "<g id=\"graph0\" class=\"graph\" transform=\"scale(1 1) rotate(0) translate(4 112)\">\n",
       "<polygon fill=\"white\" stroke=\"transparent\" points=\"-4,4 -4,-112 1006.49,-112 1006.49,4 -4,4\"/>\n",
       "<!-- temp_0 -->\n",
       "<g id=\"node1\" class=\"node\">\n",
       "<title>temp_0</title>\n",
       "<ellipse fill=\"white\" stroke=\"black\" cx=\"42.25\" cy=\"-90\" rx=\"37.89\" ry=\"18\"/>\n",
       "<text text-anchor=\"middle\" x=\"42.25\" y=\"-86.3\" font-family=\"Times,serif\" font-size=\"14.00\">temp_0</text>\n",
       "</g>\n",
       "<!-- sensor_0 -->\n",
       "<g id=\"node2\" class=\"node\">\n",
       "<title>sensor_0</title>\n",
       "<ellipse fill=\"gray\" stroke=\"black\" cx=\"42.25\" cy=\"-18\" rx=\"42.49\" ry=\"18\"/>\n",
       "<text text-anchor=\"middle\" x=\"42.25\" y=\"-14.3\" font-family=\"Times,serif\" font-size=\"14.00\">sensor_0</text>\n",
       "</g>\n",
       "<!-- temp_0&#45;&gt;sensor_0 -->\n",
       "<g id=\"edge1\" class=\"edge\">\n",
       "<title>temp_0&#45;&gt;sensor_0</title>\n",
       "<path fill=\"none\" stroke=\"black\" d=\"M42.25,-71.7C42.25,-63.98 42.25,-54.71 42.25,-46.11\"/>\n",
       "<polygon fill=\"black\" stroke=\"black\" points=\"45.75,-46.1 42.25,-36.1 38.75,-46.1 45.75,-46.1\"/>\n",
       "</g>\n",
       "<!-- temp_1 -->\n",
       "<g id=\"node3\" class=\"node\">\n",
       "<title>temp_1</title>\n",
       "<ellipse fill=\"white\" stroke=\"black\" cx=\"144.25\" cy=\"-90\" rx=\"37.89\" ry=\"18\"/>\n",
       "<text text-anchor=\"middle\" x=\"144.25\" y=\"-86.3\" font-family=\"Times,serif\" font-size=\"14.00\">temp_1</text>\n",
       "</g>\n",
       "<!-- sensor_1 -->\n",
       "<g id=\"node4\" class=\"node\">\n",
       "<title>sensor_1</title>\n",
       "<ellipse fill=\"gray\" stroke=\"black\" cx=\"144.25\" cy=\"-18\" rx=\"42.49\" ry=\"18\"/>\n",
       "<text text-anchor=\"middle\" x=\"144.25\" y=\"-14.3\" font-family=\"Times,serif\" font-size=\"14.00\">sensor_1</text>\n",
       "</g>\n",
       "<!-- temp_1&#45;&gt;sensor_1 -->\n",
       "<g id=\"edge2\" class=\"edge\">\n",
       "<title>temp_1&#45;&gt;sensor_1</title>\n",
       "<path fill=\"none\" stroke=\"black\" d=\"M144.25,-71.7C144.25,-63.98 144.25,-54.71 144.25,-46.11\"/>\n",
       "<polygon fill=\"black\" stroke=\"black\" points=\"147.75,-46.1 144.25,-36.1 140.75,-46.1 147.75,-46.1\"/>\n",
       "</g>\n",
       "<!-- temp_2 -->\n",
       "<g id=\"node5\" class=\"node\">\n",
       "<title>temp_2</title>\n",
       "<ellipse fill=\"white\" stroke=\"black\" cx=\"246.25\" cy=\"-90\" rx=\"37.89\" ry=\"18\"/>\n",
       "<text text-anchor=\"middle\" x=\"246.25\" y=\"-86.3\" font-family=\"Times,serif\" font-size=\"14.00\">temp_2</text>\n",
       "</g>\n",
       "<!-- sensor_2 -->\n",
       "<g id=\"node6\" class=\"node\">\n",
       "<title>sensor_2</title>\n",
       "<ellipse fill=\"gray\" stroke=\"black\" cx=\"246.25\" cy=\"-18\" rx=\"42.49\" ry=\"18\"/>\n",
       "<text text-anchor=\"middle\" x=\"246.25\" y=\"-14.3\" font-family=\"Times,serif\" font-size=\"14.00\">sensor_2</text>\n",
       "</g>\n",
       "<!-- temp_2&#45;&gt;sensor_2 -->\n",
       "<g id=\"edge3\" class=\"edge\">\n",
       "<title>temp_2&#45;&gt;sensor_2</title>\n",
       "<path fill=\"none\" stroke=\"black\" d=\"M246.25,-71.7C246.25,-63.98 246.25,-54.71 246.25,-46.11\"/>\n",
       "<polygon fill=\"black\" stroke=\"black\" points=\"249.75,-46.1 246.25,-36.1 242.75,-46.1 249.75,-46.1\"/>\n",
       "</g>\n",
       "<!-- temp_3 -->\n",
       "<g id=\"node7\" class=\"node\">\n",
       "<title>temp_3</title>\n",
       "<ellipse fill=\"white\" stroke=\"black\" cx=\"348.25\" cy=\"-90\" rx=\"37.89\" ry=\"18\"/>\n",
       "<text text-anchor=\"middle\" x=\"348.25\" y=\"-86.3\" font-family=\"Times,serif\" font-size=\"14.00\">temp_3</text>\n",
       "</g>\n",
       "<!-- sensor_3 -->\n",
       "<g id=\"node8\" class=\"node\">\n",
       "<title>sensor_3</title>\n",
       "<ellipse fill=\"gray\" stroke=\"black\" cx=\"348.25\" cy=\"-18\" rx=\"42.49\" ry=\"18\"/>\n",
       "<text text-anchor=\"middle\" x=\"348.25\" y=\"-14.3\" font-family=\"Times,serif\" font-size=\"14.00\">sensor_3</text>\n",
       "</g>\n",
       "<!-- temp_3&#45;&gt;sensor_3 -->\n",
       "<g id=\"edge4\" class=\"edge\">\n",
       "<title>temp_3&#45;&gt;sensor_3</title>\n",
       "<path fill=\"none\" stroke=\"black\" d=\"M348.25,-71.7C348.25,-63.98 348.25,-54.71 348.25,-46.11\"/>\n",
       "<polygon fill=\"black\" stroke=\"black\" points=\"351.75,-46.1 348.25,-36.1 344.75,-46.1 351.75,-46.1\"/>\n",
       "</g>\n",
       "<!-- temp_4 -->\n",
       "<g id=\"node9\" class=\"node\">\n",
       "<title>temp_4</title>\n",
       "<ellipse fill=\"white\" stroke=\"black\" cx=\"450.25\" cy=\"-90\" rx=\"37.89\" ry=\"18\"/>\n",
       "<text text-anchor=\"middle\" x=\"450.25\" y=\"-86.3\" font-family=\"Times,serif\" font-size=\"14.00\">temp_4</text>\n",
       "</g>\n",
       "<!-- sensor_4 -->\n",
       "<g id=\"node10\" class=\"node\">\n",
       "<title>sensor_4</title>\n",
       "<ellipse fill=\"gray\" stroke=\"black\" cx=\"450.25\" cy=\"-18\" rx=\"42.49\" ry=\"18\"/>\n",
       "<text text-anchor=\"middle\" x=\"450.25\" y=\"-14.3\" font-family=\"Times,serif\" font-size=\"14.00\">sensor_4</text>\n",
       "</g>\n",
       "<!-- temp_4&#45;&gt;sensor_4 -->\n",
       "<g id=\"edge5\" class=\"edge\">\n",
       "<title>temp_4&#45;&gt;sensor_4</title>\n",
       "<path fill=\"none\" stroke=\"black\" d=\"M450.25,-71.7C450.25,-63.98 450.25,-54.71 450.25,-46.11\"/>\n",
       "<polygon fill=\"black\" stroke=\"black\" points=\"453.75,-46.1 450.25,-36.1 446.75,-46.1 453.75,-46.1\"/>\n",
       "</g>\n",
       "<!-- temp_5 -->\n",
       "<g id=\"node11\" class=\"node\">\n",
       "<title>temp_5</title>\n",
       "<ellipse fill=\"white\" stroke=\"black\" cx=\"552.25\" cy=\"-90\" rx=\"37.89\" ry=\"18\"/>\n",
       "<text text-anchor=\"middle\" x=\"552.25\" y=\"-86.3\" font-family=\"Times,serif\" font-size=\"14.00\">temp_5</text>\n",
       "</g>\n",
       "<!-- sensor_5 -->\n",
       "<g id=\"node12\" class=\"node\">\n",
       "<title>sensor_5</title>\n",
       "<ellipse fill=\"gray\" stroke=\"black\" cx=\"552.25\" cy=\"-18\" rx=\"42.49\" ry=\"18\"/>\n",
       "<text text-anchor=\"middle\" x=\"552.25\" y=\"-14.3\" font-family=\"Times,serif\" font-size=\"14.00\">sensor_5</text>\n",
       "</g>\n",
       "<!-- temp_5&#45;&gt;sensor_5 -->\n",
       "<g id=\"edge6\" class=\"edge\">\n",
       "<title>temp_5&#45;&gt;sensor_5</title>\n",
       "<path fill=\"none\" stroke=\"black\" d=\"M552.25,-71.7C552.25,-63.98 552.25,-54.71 552.25,-46.11\"/>\n",
       "<polygon fill=\"black\" stroke=\"black\" points=\"555.75,-46.1 552.25,-36.1 548.75,-46.1 555.75,-46.1\"/>\n",
       "</g>\n",
       "<!-- temp_6 -->\n",
       "<g id=\"node13\" class=\"node\">\n",
       "<title>temp_6</title>\n",
       "<ellipse fill=\"white\" stroke=\"black\" cx=\"654.25\" cy=\"-90\" rx=\"37.89\" ry=\"18\"/>\n",
       "<text text-anchor=\"middle\" x=\"654.25\" y=\"-86.3\" font-family=\"Times,serif\" font-size=\"14.00\">temp_6</text>\n",
       "</g>\n",
       "<!-- sensor_6 -->\n",
       "<g id=\"node14\" class=\"node\">\n",
       "<title>sensor_6</title>\n",
       "<ellipse fill=\"gray\" stroke=\"black\" cx=\"654.25\" cy=\"-18\" rx=\"42.49\" ry=\"18\"/>\n",
       "<text text-anchor=\"middle\" x=\"654.25\" y=\"-14.3\" font-family=\"Times,serif\" font-size=\"14.00\">sensor_6</text>\n",
       "</g>\n",
       "<!-- temp_6&#45;&gt;sensor_6 -->\n",
       "<g id=\"edge7\" class=\"edge\">\n",
       "<title>temp_6&#45;&gt;sensor_6</title>\n",
       "<path fill=\"none\" stroke=\"black\" d=\"M654.25,-71.7C654.25,-63.98 654.25,-54.71 654.25,-46.11\"/>\n",
       "<polygon fill=\"black\" stroke=\"black\" points=\"657.75,-46.1 654.25,-36.1 650.75,-46.1 657.75,-46.1\"/>\n",
       "</g>\n",
       "<!-- temp_7 -->\n",
       "<g id=\"node15\" class=\"node\">\n",
       "<title>temp_7</title>\n",
       "<ellipse fill=\"white\" stroke=\"black\" cx=\"756.25\" cy=\"-90\" rx=\"37.89\" ry=\"18\"/>\n",
       "<text text-anchor=\"middle\" x=\"756.25\" y=\"-86.3\" font-family=\"Times,serif\" font-size=\"14.00\">temp_7</text>\n",
       "</g>\n",
       "<!-- sensor_7 -->\n",
       "<g id=\"node16\" class=\"node\">\n",
       "<title>sensor_7</title>\n",
       "<ellipse fill=\"gray\" stroke=\"black\" cx=\"756.25\" cy=\"-18\" rx=\"42.49\" ry=\"18\"/>\n",
       "<text text-anchor=\"middle\" x=\"756.25\" y=\"-14.3\" font-family=\"Times,serif\" font-size=\"14.00\">sensor_7</text>\n",
       "</g>\n",
       "<!-- temp_7&#45;&gt;sensor_7 -->\n",
       "<g id=\"edge8\" class=\"edge\">\n",
       "<title>temp_7&#45;&gt;sensor_7</title>\n",
       "<path fill=\"none\" stroke=\"black\" d=\"M756.25,-71.7C756.25,-63.98 756.25,-54.71 756.25,-46.11\"/>\n",
       "<polygon fill=\"black\" stroke=\"black\" points=\"759.75,-46.1 756.25,-36.1 752.75,-46.1 759.75,-46.1\"/>\n",
       "</g>\n",
       "<!-- temp_8 -->\n",
       "<g id=\"node17\" class=\"node\">\n",
       "<title>temp_8</title>\n",
       "<ellipse fill=\"white\" stroke=\"black\" cx=\"858.25\" cy=\"-90\" rx=\"37.89\" ry=\"18\"/>\n",
       "<text text-anchor=\"middle\" x=\"858.25\" y=\"-86.3\" font-family=\"Times,serif\" font-size=\"14.00\">temp_8</text>\n",
       "</g>\n",
       "<!-- sensor_8 -->\n",
       "<g id=\"node18\" class=\"node\">\n",
       "<title>sensor_8</title>\n",
       "<ellipse fill=\"gray\" stroke=\"black\" cx=\"858.25\" cy=\"-18\" rx=\"42.49\" ry=\"18\"/>\n",
       "<text text-anchor=\"middle\" x=\"858.25\" y=\"-14.3\" font-family=\"Times,serif\" font-size=\"14.00\">sensor_8</text>\n",
       "</g>\n",
       "<!-- temp_8&#45;&gt;sensor_8 -->\n",
       "<g id=\"edge9\" class=\"edge\">\n",
       "<title>temp_8&#45;&gt;sensor_8</title>\n",
       "<path fill=\"none\" stroke=\"black\" d=\"M858.25,-71.7C858.25,-63.98 858.25,-54.71 858.25,-46.11\"/>\n",
       "<polygon fill=\"black\" stroke=\"black\" points=\"861.75,-46.1 858.25,-36.1 854.75,-46.1 861.75,-46.1\"/>\n",
       "</g>\n",
       "<!-- temp_9 -->\n",
       "<g id=\"node19\" class=\"node\">\n",
       "<title>temp_9</title>\n",
       "<ellipse fill=\"white\" stroke=\"black\" cx=\"960.25\" cy=\"-90\" rx=\"37.89\" ry=\"18\"/>\n",
       "<text text-anchor=\"middle\" x=\"960.25\" y=\"-86.3\" font-family=\"Times,serif\" font-size=\"14.00\">temp_9</text>\n",
       "</g>\n",
       "<!-- sensor_9 -->\n",
       "<g id=\"node20\" class=\"node\">\n",
       "<title>sensor_9</title>\n",
       "<ellipse fill=\"gray\" stroke=\"black\" cx=\"960.25\" cy=\"-18\" rx=\"42.49\" ry=\"18\"/>\n",
       "<text text-anchor=\"middle\" x=\"960.25\" y=\"-14.3\" font-family=\"Times,serif\" font-size=\"14.00\">sensor_9</text>\n",
       "</g>\n",
       "<!-- temp_9&#45;&gt;sensor_9 -->\n",
       "<g id=\"edge10\" class=\"edge\">\n",
       "<title>temp_9&#45;&gt;sensor_9</title>\n",
       "<path fill=\"none\" stroke=\"black\" d=\"M960.25,-71.7C960.25,-63.98 960.25,-54.71 960.25,-46.11\"/>\n",
       "<polygon fill=\"black\" stroke=\"black\" points=\"963.75,-46.1 960.25,-36.1 956.75,-46.1 963.75,-46.1\"/>\n",
       "</g>\n",
       "</g>\n",
       "</svg>\n"
      ],
      "text/plain": [
       "<graphviz.graphs.Digraph at 0x11e3ffe80>"
      ]
     },
     "execution_count": 20,
     "metadata": {},
     "output_type": "execute_result"
    }
   ],
   "source": [
    "#Visualize the model\n",
    "pyro.render_model(model, model_args=(obs, ))"
   ]
  },
  {
   "cell_type": "code",
   "execution_count": 22,
   "metadata": {},
   "outputs": [
    {
     "name": "stdout",
     "output_type": "stream",
     "text": [
      "Step: 0. Loss: 2270.0551331043243\n",
      "Step: 100. Loss: 191.25131821632385\n",
      "Step: 200. Loss: 55.76117891073227\n",
      "Step: 300. Loss: 42.96208876371384\n",
      "Step: 400. Loss: 40.83998894691467\n",
      "Inference results:\n",
      "AutoNormal.locs.temp_0 Parameter containing:\n",
      "tensor(17.4279, requires_grad=True)\n",
      "AutoNormal.scales.temp_0 tensor(0.8460, grad_fn=<SoftplusBackward0>)\n",
      "AutoNormal.locs.temp_1 Parameter containing:\n",
      "tensor(17.9418, requires_grad=True)\n",
      "AutoNormal.scales.temp_1 tensor(0.8459, grad_fn=<SoftplusBackward0>)\n",
      "AutoNormal.locs.temp_2 Parameter containing:\n",
      "tensor(18.2756, requires_grad=True)\n",
      "AutoNormal.scales.temp_2 tensor(0.8490, grad_fn=<SoftplusBackward0>)\n",
      "AutoNormal.locs.temp_3 Parameter containing:\n",
      "tensor(17.2302, requires_grad=True)\n",
      "AutoNormal.scales.temp_3 tensor(0.9022, grad_fn=<SoftplusBackward0>)\n",
      "AutoNormal.locs.temp_4 Parameter containing:\n",
      "tensor(19.3044, requires_grad=True)\n",
      "AutoNormal.scales.temp_4 tensor(0.7995, grad_fn=<SoftplusBackward0>)\n",
      "AutoNormal.locs.temp_5 Parameter containing:\n",
      "tensor(20.9456, requires_grad=True)\n",
      "AutoNormal.scales.temp_5 tensor(0.9167, grad_fn=<SoftplusBackward0>)\n",
      "AutoNormal.locs.temp_6 Parameter containing:\n",
      "tensor(19.3122, requires_grad=True)\n",
      "AutoNormal.scales.temp_6 tensor(0.8624, grad_fn=<SoftplusBackward0>)\n",
      "AutoNormal.locs.temp_7 Parameter containing:\n",
      "tensor(19.9350, requires_grad=True)\n",
      "AutoNormal.scales.temp_7 tensor(0.8151, grad_fn=<SoftplusBackward0>)\n",
      "AutoNormal.locs.temp_8 Parameter containing:\n",
      "tensor(18.5661, requires_grad=True)\n",
      "AutoNormal.scales.temp_8 tensor(0.8957, grad_fn=<SoftplusBackward0>)\n",
      "AutoNormal.locs.temp_9 Parameter containing:\n",
      "tensor(19.0391, requires_grad=True)\n",
      "AutoNormal.scales.temp_9 tensor(0.8311, grad_fn=<SoftplusBackward0>)\n"
     ]
    }
   ],
   "source": [
    "#Run inference\n",
    "svi(model, obs, verbose=True)"
   ]
  },
  {
   "cell_type": "markdown",
   "metadata": {
    "id": "fjcPTM1PL-0x"
   },
   "source": [
    "---\n",
    "What if we do **not know the mean temperature** (as illustrated in the graphical model below)?\n",
    "<center>\n",
    "<img src=\"https://github.com/PGM-Lab/probai-2021-pyro/blob/main/Day1/Figures/PGM-Tem_sensor4.png?raw=1\" alt=\"Drawing\" width=\"150\">\n",
    "</center>\n",
    "\n",
    "* We can **infer the parameter from the data** by, e.g., using a **maximum likelihood** approach,\n",
    "$$ \\mu_{t} = \\arg\\max_\\mu \\ln p(s_1,\\ldots,s_n|\\mu) = \\arg\\max_\\mu \\prod_i \\int_{t_i} p(s_i|t_i)p(t_i|\\mu) dt_i, $$ where $s_i$ and $t_i$ denote the sensor reading and the real temperature at time $i$. \n",
    "\n",
    "For now we do not consider the **underlying inference problem** We just define the model and let the **PPL's engine** do the work for us. \n",
    "* We use Pyro's parameters (defined as ``pyro.param``), which are free variables we can optimize. \n"
   ]
  },
  {
   "cell_type": "code",
   "execution_count": 23,
   "metadata": {
    "id": "yXEFGMkzL-0x"
   },
   "outputs": [],
   "source": [
    "#The observatons   \n",
    "obs = {'sensor': torch.tensor([18., 18.7, 19.2, 17.8, 20.3, 22.4, 20.3, 21.2, 19.5, 20.1])}\n",
    "\n",
    "def model(obs):\n",
    "    mean_temp = pyro.param('mean_temp', torch.tensor(15.0))\n",
    "    for i in range(obs['sensor'].shape[0]):\n",
    "        temp = pyro.sample(f'temp_{i}', dist.Normal(mean_temp, 2.0))\n",
    "        sensor = pyro.sample(f'sensor_{i}', dist.Normal(temp, 1.0), obs=obs['sensor'][i])"
   ]
  },
  {
   "cell_type": "code",
   "execution_count": 24,
   "metadata": {},
   "outputs": [
    {
     "data": {
      "image/svg+xml": [
       "<?xml version=\"1.0\" encoding=\"UTF-8\" standalone=\"no\"?>\n",
       "<!DOCTYPE svg PUBLIC \"-//W3C//DTD SVG 1.1//EN\"\n",
       " \"http://www.w3.org/Graphics/SVG/1.1/DTD/svg11.dtd\">\n",
       "<!-- Generated by graphviz version 5.0.0 (20220707.1540)\n",
       " -->\n",
       "<!-- Pages: 1 -->\n",
       "<svg width=\"1010pt\" height=\"116pt\"\n",
       " viewBox=\"0.00 0.00 1010.49 116.00\" xmlns=\"http://www.w3.org/2000/svg\" xmlns:xlink=\"http://www.w3.org/1999/xlink\">\n",
       "<g id=\"graph0\" class=\"graph\" transform=\"scale(1 1) rotate(0) translate(4 112)\">\n",
       "<polygon fill=\"white\" stroke=\"transparent\" points=\"-4,4 -4,-112 1006.49,-112 1006.49,4 -4,4\"/>\n",
       "<!-- temp_0 -->\n",
       "<g id=\"node1\" class=\"node\">\n",
       "<title>temp_0</title>\n",
       "<ellipse fill=\"white\" stroke=\"black\" cx=\"42.25\" cy=\"-90\" rx=\"37.89\" ry=\"18\"/>\n",
       "<text text-anchor=\"middle\" x=\"42.25\" y=\"-86.3\" font-family=\"Times,serif\" font-size=\"14.00\">temp_0</text>\n",
       "</g>\n",
       "<!-- sensor_0 -->\n",
       "<g id=\"node2\" class=\"node\">\n",
       "<title>sensor_0</title>\n",
       "<ellipse fill=\"gray\" stroke=\"black\" cx=\"42.25\" cy=\"-18\" rx=\"42.49\" ry=\"18\"/>\n",
       "<text text-anchor=\"middle\" x=\"42.25\" y=\"-14.3\" font-family=\"Times,serif\" font-size=\"14.00\">sensor_0</text>\n",
       "</g>\n",
       "<!-- temp_0&#45;&gt;sensor_0 -->\n",
       "<g id=\"edge1\" class=\"edge\">\n",
       "<title>temp_0&#45;&gt;sensor_0</title>\n",
       "<path fill=\"none\" stroke=\"black\" d=\"M42.25,-71.7C42.25,-63.98 42.25,-54.71 42.25,-46.11\"/>\n",
       "<polygon fill=\"black\" stroke=\"black\" points=\"45.75,-46.1 42.25,-36.1 38.75,-46.1 45.75,-46.1\"/>\n",
       "</g>\n",
       "<!-- temp_1 -->\n",
       "<g id=\"node3\" class=\"node\">\n",
       "<title>temp_1</title>\n",
       "<ellipse fill=\"white\" stroke=\"black\" cx=\"144.25\" cy=\"-90\" rx=\"37.89\" ry=\"18\"/>\n",
       "<text text-anchor=\"middle\" x=\"144.25\" y=\"-86.3\" font-family=\"Times,serif\" font-size=\"14.00\">temp_1</text>\n",
       "</g>\n",
       "<!-- sensor_1 -->\n",
       "<g id=\"node4\" class=\"node\">\n",
       "<title>sensor_1</title>\n",
       "<ellipse fill=\"gray\" stroke=\"black\" cx=\"144.25\" cy=\"-18\" rx=\"42.49\" ry=\"18\"/>\n",
       "<text text-anchor=\"middle\" x=\"144.25\" y=\"-14.3\" font-family=\"Times,serif\" font-size=\"14.00\">sensor_1</text>\n",
       "</g>\n",
       "<!-- temp_1&#45;&gt;sensor_1 -->\n",
       "<g id=\"edge2\" class=\"edge\">\n",
       "<title>temp_1&#45;&gt;sensor_1</title>\n",
       "<path fill=\"none\" stroke=\"black\" d=\"M144.25,-71.7C144.25,-63.98 144.25,-54.71 144.25,-46.11\"/>\n",
       "<polygon fill=\"black\" stroke=\"black\" points=\"147.75,-46.1 144.25,-36.1 140.75,-46.1 147.75,-46.1\"/>\n",
       "</g>\n",
       "<!-- temp_2 -->\n",
       "<g id=\"node5\" class=\"node\">\n",
       "<title>temp_2</title>\n",
       "<ellipse fill=\"white\" stroke=\"black\" cx=\"246.25\" cy=\"-90\" rx=\"37.89\" ry=\"18\"/>\n",
       "<text text-anchor=\"middle\" x=\"246.25\" y=\"-86.3\" font-family=\"Times,serif\" font-size=\"14.00\">temp_2</text>\n",
       "</g>\n",
       "<!-- sensor_2 -->\n",
       "<g id=\"node6\" class=\"node\">\n",
       "<title>sensor_2</title>\n",
       "<ellipse fill=\"gray\" stroke=\"black\" cx=\"246.25\" cy=\"-18\" rx=\"42.49\" ry=\"18\"/>\n",
       "<text text-anchor=\"middle\" x=\"246.25\" y=\"-14.3\" font-family=\"Times,serif\" font-size=\"14.00\">sensor_2</text>\n",
       "</g>\n",
       "<!-- temp_2&#45;&gt;sensor_2 -->\n",
       "<g id=\"edge3\" class=\"edge\">\n",
       "<title>temp_2&#45;&gt;sensor_2</title>\n",
       "<path fill=\"none\" stroke=\"black\" d=\"M246.25,-71.7C246.25,-63.98 246.25,-54.71 246.25,-46.11\"/>\n",
       "<polygon fill=\"black\" stroke=\"black\" points=\"249.75,-46.1 246.25,-36.1 242.75,-46.1 249.75,-46.1\"/>\n",
       "</g>\n",
       "<!-- temp_3 -->\n",
       "<g id=\"node7\" class=\"node\">\n",
       "<title>temp_3</title>\n",
       "<ellipse fill=\"white\" stroke=\"black\" cx=\"348.25\" cy=\"-90\" rx=\"37.89\" ry=\"18\"/>\n",
       "<text text-anchor=\"middle\" x=\"348.25\" y=\"-86.3\" font-family=\"Times,serif\" font-size=\"14.00\">temp_3</text>\n",
       "</g>\n",
       "<!-- sensor_3 -->\n",
       "<g id=\"node8\" class=\"node\">\n",
       "<title>sensor_3</title>\n",
       "<ellipse fill=\"gray\" stroke=\"black\" cx=\"348.25\" cy=\"-18\" rx=\"42.49\" ry=\"18\"/>\n",
       "<text text-anchor=\"middle\" x=\"348.25\" y=\"-14.3\" font-family=\"Times,serif\" font-size=\"14.00\">sensor_3</text>\n",
       "</g>\n",
       "<!-- temp_3&#45;&gt;sensor_3 -->\n",
       "<g id=\"edge4\" class=\"edge\">\n",
       "<title>temp_3&#45;&gt;sensor_3</title>\n",
       "<path fill=\"none\" stroke=\"black\" d=\"M348.25,-71.7C348.25,-63.98 348.25,-54.71 348.25,-46.11\"/>\n",
       "<polygon fill=\"black\" stroke=\"black\" points=\"351.75,-46.1 348.25,-36.1 344.75,-46.1 351.75,-46.1\"/>\n",
       "</g>\n",
       "<!-- temp_4 -->\n",
       "<g id=\"node9\" class=\"node\">\n",
       "<title>temp_4</title>\n",
       "<ellipse fill=\"white\" stroke=\"black\" cx=\"450.25\" cy=\"-90\" rx=\"37.89\" ry=\"18\"/>\n",
       "<text text-anchor=\"middle\" x=\"450.25\" y=\"-86.3\" font-family=\"Times,serif\" font-size=\"14.00\">temp_4</text>\n",
       "</g>\n",
       "<!-- sensor_4 -->\n",
       "<g id=\"node10\" class=\"node\">\n",
       "<title>sensor_4</title>\n",
       "<ellipse fill=\"gray\" stroke=\"black\" cx=\"450.25\" cy=\"-18\" rx=\"42.49\" ry=\"18\"/>\n",
       "<text text-anchor=\"middle\" x=\"450.25\" y=\"-14.3\" font-family=\"Times,serif\" font-size=\"14.00\">sensor_4</text>\n",
       "</g>\n",
       "<!-- temp_4&#45;&gt;sensor_4 -->\n",
       "<g id=\"edge5\" class=\"edge\">\n",
       "<title>temp_4&#45;&gt;sensor_4</title>\n",
       "<path fill=\"none\" stroke=\"black\" d=\"M450.25,-71.7C450.25,-63.98 450.25,-54.71 450.25,-46.11\"/>\n",
       "<polygon fill=\"black\" stroke=\"black\" points=\"453.75,-46.1 450.25,-36.1 446.75,-46.1 453.75,-46.1\"/>\n",
       "</g>\n",
       "<!-- temp_5 -->\n",
       "<g id=\"node11\" class=\"node\">\n",
       "<title>temp_5</title>\n",
       "<ellipse fill=\"white\" stroke=\"black\" cx=\"552.25\" cy=\"-90\" rx=\"37.89\" ry=\"18\"/>\n",
       "<text text-anchor=\"middle\" x=\"552.25\" y=\"-86.3\" font-family=\"Times,serif\" font-size=\"14.00\">temp_5</text>\n",
       "</g>\n",
       "<!-- sensor_5 -->\n",
       "<g id=\"node12\" class=\"node\">\n",
       "<title>sensor_5</title>\n",
       "<ellipse fill=\"gray\" stroke=\"black\" cx=\"552.25\" cy=\"-18\" rx=\"42.49\" ry=\"18\"/>\n",
       "<text text-anchor=\"middle\" x=\"552.25\" y=\"-14.3\" font-family=\"Times,serif\" font-size=\"14.00\">sensor_5</text>\n",
       "</g>\n",
       "<!-- temp_5&#45;&gt;sensor_5 -->\n",
       "<g id=\"edge6\" class=\"edge\">\n",
       "<title>temp_5&#45;&gt;sensor_5</title>\n",
       "<path fill=\"none\" stroke=\"black\" d=\"M552.25,-71.7C552.25,-63.98 552.25,-54.71 552.25,-46.11\"/>\n",
       "<polygon fill=\"black\" stroke=\"black\" points=\"555.75,-46.1 552.25,-36.1 548.75,-46.1 555.75,-46.1\"/>\n",
       "</g>\n",
       "<!-- temp_6 -->\n",
       "<g id=\"node13\" class=\"node\">\n",
       "<title>temp_6</title>\n",
       "<ellipse fill=\"white\" stroke=\"black\" cx=\"654.25\" cy=\"-90\" rx=\"37.89\" ry=\"18\"/>\n",
       "<text text-anchor=\"middle\" x=\"654.25\" y=\"-86.3\" font-family=\"Times,serif\" font-size=\"14.00\">temp_6</text>\n",
       "</g>\n",
       "<!-- sensor_6 -->\n",
       "<g id=\"node14\" class=\"node\">\n",
       "<title>sensor_6</title>\n",
       "<ellipse fill=\"gray\" stroke=\"black\" cx=\"654.25\" cy=\"-18\" rx=\"42.49\" ry=\"18\"/>\n",
       "<text text-anchor=\"middle\" x=\"654.25\" y=\"-14.3\" font-family=\"Times,serif\" font-size=\"14.00\">sensor_6</text>\n",
       "</g>\n",
       "<!-- temp_6&#45;&gt;sensor_6 -->\n",
       "<g id=\"edge7\" class=\"edge\">\n",
       "<title>temp_6&#45;&gt;sensor_6</title>\n",
       "<path fill=\"none\" stroke=\"black\" d=\"M654.25,-71.7C654.25,-63.98 654.25,-54.71 654.25,-46.11\"/>\n",
       "<polygon fill=\"black\" stroke=\"black\" points=\"657.75,-46.1 654.25,-36.1 650.75,-46.1 657.75,-46.1\"/>\n",
       "</g>\n",
       "<!-- temp_7 -->\n",
       "<g id=\"node15\" class=\"node\">\n",
       "<title>temp_7</title>\n",
       "<ellipse fill=\"white\" stroke=\"black\" cx=\"756.25\" cy=\"-90\" rx=\"37.89\" ry=\"18\"/>\n",
       "<text text-anchor=\"middle\" x=\"756.25\" y=\"-86.3\" font-family=\"Times,serif\" font-size=\"14.00\">temp_7</text>\n",
       "</g>\n",
       "<!-- sensor_7 -->\n",
       "<g id=\"node16\" class=\"node\">\n",
       "<title>sensor_7</title>\n",
       "<ellipse fill=\"gray\" stroke=\"black\" cx=\"756.25\" cy=\"-18\" rx=\"42.49\" ry=\"18\"/>\n",
       "<text text-anchor=\"middle\" x=\"756.25\" y=\"-14.3\" font-family=\"Times,serif\" font-size=\"14.00\">sensor_7</text>\n",
       "</g>\n",
       "<!-- temp_7&#45;&gt;sensor_7 -->\n",
       "<g id=\"edge8\" class=\"edge\">\n",
       "<title>temp_7&#45;&gt;sensor_7</title>\n",
       "<path fill=\"none\" stroke=\"black\" d=\"M756.25,-71.7C756.25,-63.98 756.25,-54.71 756.25,-46.11\"/>\n",
       "<polygon fill=\"black\" stroke=\"black\" points=\"759.75,-46.1 756.25,-36.1 752.75,-46.1 759.75,-46.1\"/>\n",
       "</g>\n",
       "<!-- temp_8 -->\n",
       "<g id=\"node17\" class=\"node\">\n",
       "<title>temp_8</title>\n",
       "<ellipse fill=\"white\" stroke=\"black\" cx=\"858.25\" cy=\"-90\" rx=\"37.89\" ry=\"18\"/>\n",
       "<text text-anchor=\"middle\" x=\"858.25\" y=\"-86.3\" font-family=\"Times,serif\" font-size=\"14.00\">temp_8</text>\n",
       "</g>\n",
       "<!-- sensor_8 -->\n",
       "<g id=\"node18\" class=\"node\">\n",
       "<title>sensor_8</title>\n",
       "<ellipse fill=\"gray\" stroke=\"black\" cx=\"858.25\" cy=\"-18\" rx=\"42.49\" ry=\"18\"/>\n",
       "<text text-anchor=\"middle\" x=\"858.25\" y=\"-14.3\" font-family=\"Times,serif\" font-size=\"14.00\">sensor_8</text>\n",
       "</g>\n",
       "<!-- temp_8&#45;&gt;sensor_8 -->\n",
       "<g id=\"edge9\" class=\"edge\">\n",
       "<title>temp_8&#45;&gt;sensor_8</title>\n",
       "<path fill=\"none\" stroke=\"black\" d=\"M858.25,-71.7C858.25,-63.98 858.25,-54.71 858.25,-46.11\"/>\n",
       "<polygon fill=\"black\" stroke=\"black\" points=\"861.75,-46.1 858.25,-36.1 854.75,-46.1 861.75,-46.1\"/>\n",
       "</g>\n",
       "<!-- temp_9 -->\n",
       "<g id=\"node19\" class=\"node\">\n",
       "<title>temp_9</title>\n",
       "<ellipse fill=\"white\" stroke=\"black\" cx=\"960.25\" cy=\"-90\" rx=\"37.89\" ry=\"18\"/>\n",
       "<text text-anchor=\"middle\" x=\"960.25\" y=\"-86.3\" font-family=\"Times,serif\" font-size=\"14.00\">temp_9</text>\n",
       "</g>\n",
       "<!-- sensor_9 -->\n",
       "<g id=\"node20\" class=\"node\">\n",
       "<title>sensor_9</title>\n",
       "<ellipse fill=\"gray\" stroke=\"black\" cx=\"960.25\" cy=\"-18\" rx=\"42.49\" ry=\"18\"/>\n",
       "<text text-anchor=\"middle\" x=\"960.25\" y=\"-14.3\" font-family=\"Times,serif\" font-size=\"14.00\">sensor_9</text>\n",
       "</g>\n",
       "<!-- temp_9&#45;&gt;sensor_9 -->\n",
       "<g id=\"edge10\" class=\"edge\">\n",
       "<title>temp_9&#45;&gt;sensor_9</title>\n",
       "<path fill=\"none\" stroke=\"black\" d=\"M960.25,-71.7C960.25,-63.98 960.25,-54.71 960.25,-46.11\"/>\n",
       "<polygon fill=\"black\" stroke=\"black\" points=\"963.75,-46.1 960.25,-36.1 956.75,-46.1 963.75,-46.1\"/>\n",
       "</g>\n",
       "</g>\n",
       "</svg>\n"
      ],
      "text/plain": [
       "<graphviz.graphs.Digraph at 0x11e05c3d0>"
      ]
     },
     "execution_count": 24,
     "metadata": {},
     "output_type": "execute_result"
    }
   ],
   "source": [
    "#Visualize the model\n",
    "pyro.render_model(model, model_args=(obs, ))"
   ]
  },
  {
   "cell_type": "code",
   "execution_count": 26,
   "metadata": {
    "colab": {
     "base_uri": "https://localhost:8080/"
    },
    "id": "GEfOM8zWL-0y",
    "outputId": "3a17d682-efe2-46a3-8bb7-2ac82b75986f"
   },
   "outputs": [
    {
     "name": "stdout",
     "output_type": "stream",
     "text": [
      "Step: 0. Loss: 2270.0551331043243\n",
      "Step: 100. Loss: 247.77836674451828\n",
      "Step: 200. Loss: 56.34299170970917\n",
      "Step: 300. Loss: 23.71842250227928\n",
      "Step: 400. Loss: 18.077348232269287\n",
      "Estimated Mean Temperature (MLE):\n",
      "19.568622589111328\n"
     ]
    }
   ],
   "source": [
    "#Run inference\n",
    "svi(model, obs)\n",
    "\n",
    "#Print results\n",
    "print(\"Estimated Mean Temperature (MLE):\")\n",
    "mle_mean_temp = pyro.param(\"mean_temp\").item() \n",
    "print(mle_mean_temp)"
   ]
  },
  {
   "cell_type": "markdown",
   "metadata": {
    "id": "tiCwbfJwL-0y"
   },
   "source": [
    "<img src=\"https://github.com/PGM-Lab/probai-2021-pyro/blob/main/Day1/Figures/blue.png\" alt=\"Drawing\" width=2000 height=20>\n",
    "\n",
    "Instead of performing *maximum likelihood* learning, we can perform **Bayesian learning**.\n",
    "* We treat the unknown quantity as a **random variable**.\n",
    "\n",
    "* This model can be graphically represented as follows:\n",
    "\n",
    "<center>\n",
    "<img src=\"https://github.com/PGM-Lab/probai-2021-pyro/blob/main/Day1/Figures/PGM-Tem-Sensor2.png?raw=1\" alt=\"Drawing\" width=\"150\">\n",
    "</center>\n",
    "<img src=\"https://github.com/PGM-Lab/probai-2021-pyro/blob/main/Day1/Figures/blue.png?raw=1\" alt=\"Drawing\" width=2000 height=20>"
   ]
  },
  {
   "cell_type": "code",
   "execution_count": 27,
   "metadata": {
    "id": "CaTdLm6ML-0y"
   },
   "outputs": [],
   "source": [
    "#The observatons   \n",
    "obs = {'sensor': torch.tensor([18., 18.7, 19.2, 17.8, 20.3, 22.4, 20.3, 21.2, 19.5, 20.1])}\n",
    "\n",
    "def model(obs):\n",
    "    mean_temp = pyro.sample('mean_temp', dist.Normal(15.0, 2.0))\n",
    "    for i in range(obs['sensor'].shape[0]):\n",
    "        temp = pyro.sample(f'temp_{i}', dist.Normal(mean_temp, 2.0))\n",
    "        sensor = pyro.sample(f'sensor_{i}', dist.Normal(temp, 1.0), obs=obs['sensor'][i])"
   ]
  },
  {
   "cell_type": "code",
   "execution_count": 28,
   "metadata": {},
   "outputs": [
    {
     "data": {
      "image/svg+xml": [
       "<?xml version=\"1.0\" encoding=\"UTF-8\" standalone=\"no\"?>\n",
       "<!DOCTYPE svg PUBLIC \"-//W3C//DTD SVG 1.1//EN\"\n",
       " \"http://www.w3.org/Graphics/SVG/1.1/DTD/svg11.dtd\">\n",
       "<!-- Generated by graphviz version 5.0.0 (20220707.1540)\n",
       " -->\n",
       "<!-- Pages: 1 -->\n",
       "<svg width=\"1010pt\" height=\"188pt\"\n",
       " viewBox=\"0.00 0.00 1010.49 188.00\" xmlns=\"http://www.w3.org/2000/svg\" xmlns:xlink=\"http://www.w3.org/1999/xlink\">\n",
       "<g id=\"graph0\" class=\"graph\" transform=\"scale(1 1) rotate(0) translate(4 184)\">\n",
       "<polygon fill=\"white\" stroke=\"transparent\" points=\"-4,4 -4,-184 1006.49,-184 1006.49,4 -4,4\"/>\n",
       "<!-- mean_temp -->\n",
       "<g id=\"node1\" class=\"node\">\n",
       "<title>mean_temp</title>\n",
       "<ellipse fill=\"white\" stroke=\"black\" cx=\"498.25\" cy=\"-162\" rx=\"52.79\" ry=\"18\"/>\n",
       "<text text-anchor=\"middle\" x=\"498.25\" y=\"-158.3\" font-family=\"Times,serif\" font-size=\"14.00\">mean_temp</text>\n",
       "</g>\n",
       "<!-- temp_0 -->\n",
       "<g id=\"node2\" class=\"node\">\n",
       "<title>temp_0</title>\n",
       "<ellipse fill=\"white\" stroke=\"black\" cx=\"46.25\" cy=\"-90\" rx=\"37.89\" ry=\"18\"/>\n",
       "<text text-anchor=\"middle\" x=\"46.25\" y=\"-86.3\" font-family=\"Times,serif\" font-size=\"14.00\">temp_0</text>\n",
       "</g>\n",
       "<!-- mean_temp&#45;&gt;temp_0 -->\n",
       "<g id=\"edge1\" class=\"edge\">\n",
       "<title>mean_temp&#45;&gt;temp_0</title>\n",
       "<path fill=\"none\" stroke=\"black\" d=\"M447.64,-156.97C371.73,-150.32 224.17,-135 101.25,-108 96.19,-106.89 90.93,-105.53 85.75,-104.07\"/>\n",
       "<polygon fill=\"black\" stroke=\"black\" points=\"86.56,-100.66 75.98,-101.18 84.57,-107.37 86.56,-100.66\"/>\n",
       "</g>\n",
       "<!-- temp_1 -->\n",
       "<g id=\"node4\" class=\"node\">\n",
       "<title>temp_1</title>\n",
       "<ellipse fill=\"white\" stroke=\"black\" cx=\"148.25\" cy=\"-90\" rx=\"37.89\" ry=\"18\"/>\n",
       "<text text-anchor=\"middle\" x=\"148.25\" y=\"-86.3\" font-family=\"Times,serif\" font-size=\"14.00\">temp_1</text>\n",
       "</g>\n",
       "<!-- mean_temp&#45;&gt;temp_1 -->\n",
       "<g id=\"edge3\" class=\"edge\">\n",
       "<title>mean_temp&#45;&gt;temp_1</title>\n",
       "<path fill=\"none\" stroke=\"black\" d=\"M450.61,-154.27C391.98,-145.57 289.58,-129.01 203.25,-108 198.28,-106.79 193.09,-105.38 187.98,-103.91\"/>\n",
       "<polygon fill=\"black\" stroke=\"black\" points=\"188.9,-100.53 178.32,-101.02 186.9,-107.24 188.9,-100.53\"/>\n",
       "</g>\n",
       "<!-- temp_2 -->\n",
       "<g id=\"node6\" class=\"node\">\n",
       "<title>temp_2</title>\n",
       "<ellipse fill=\"white\" stroke=\"black\" cx=\"250.25\" cy=\"-90\" rx=\"37.89\" ry=\"18\"/>\n",
       "<text text-anchor=\"middle\" x=\"250.25\" y=\"-86.3\" font-family=\"Times,serif\" font-size=\"14.00\">temp_2</text>\n",
       "</g>\n",
       "<!-- mean_temp&#45;&gt;temp_2 -->\n",
       "<g id=\"edge5\" class=\"edge\">\n",
       "<title>mean_temp&#45;&gt;temp_2</title>\n",
       "<path fill=\"none\" stroke=\"black\" d=\"M457.85,-150.31C418.73,-139.86 357.78,-123.33 305.25,-108 300.52,-106.62 295.57,-105.14 290.67,-103.65\"/>\n",
       "<polygon fill=\"black\" stroke=\"black\" points=\"291.33,-100.2 280.74,-100.61 289.28,-106.89 291.33,-100.2\"/>\n",
       "</g>\n",
       "<!-- temp_3 -->\n",
       "<g id=\"node8\" class=\"node\">\n",
       "<title>temp_3</title>\n",
       "<ellipse fill=\"white\" stroke=\"black\" cx=\"352.25\" cy=\"-90\" rx=\"37.89\" ry=\"18\"/>\n",
       "<text text-anchor=\"middle\" x=\"352.25\" y=\"-86.3\" font-family=\"Times,serif\" font-size=\"14.00\">temp_3</text>\n",
       "</g>\n",
       "<!-- mean_temp&#45;&gt;temp_3 -->\n",
       "<g id=\"edge7\" class=\"edge\">\n",
       "<title>mean_temp&#45;&gt;temp_3</title>\n",
       "<path fill=\"none\" stroke=\"black\" d=\"M469.05,-147C445.44,-135.68 412.12,-119.71 387.11,-107.72\"/>\n",
       "<polygon fill=\"black\" stroke=\"black\" points=\"388.5,-104.5 377.97,-103.33 385.47,-110.81 388.5,-104.5\"/>\n",
       "</g>\n",
       "<!-- temp_4 -->\n",
       "<g id=\"node10\" class=\"node\">\n",
       "<title>temp_4</title>\n",
       "<ellipse fill=\"white\" stroke=\"black\" cx=\"451.25\" cy=\"-90\" rx=\"37.89\" ry=\"18\"/>\n",
       "<text text-anchor=\"middle\" x=\"451.25\" y=\"-86.3\" font-family=\"Times,serif\" font-size=\"14.00\">temp_4</text>\n",
       "</g>\n",
       "<!-- mean_temp&#45;&gt;temp_4 -->\n",
       "<g id=\"edge9\" class=\"edge\">\n",
       "<title>mean_temp&#45;&gt;temp_4</title>\n",
       "<path fill=\"none\" stroke=\"black\" d=\"M486.87,-144.05C481.19,-135.59 474.2,-125.19 467.93,-115.84\"/>\n",
       "<polygon fill=\"black\" stroke=\"black\" points=\"470.68,-113.66 462.2,-107.31 464.86,-117.56 470.68,-113.66\"/>\n",
       "</g>\n",
       "<!-- temp_5 -->\n",
       "<g id=\"node12\" class=\"node\">\n",
       "<title>temp_5</title>\n",
       "<ellipse fill=\"white\" stroke=\"black\" cx=\"545.25\" cy=\"-90\" rx=\"37.89\" ry=\"18\"/>\n",
       "<text text-anchor=\"middle\" x=\"545.25\" y=\"-86.3\" font-family=\"Times,serif\" font-size=\"14.00\">temp_5</text>\n",
       "</g>\n",
       "<!-- mean_temp&#45;&gt;temp_5 -->\n",
       "<g id=\"edge11\" class=\"edge\">\n",
       "<title>mean_temp&#45;&gt;temp_5</title>\n",
       "<path fill=\"none\" stroke=\"black\" d=\"M509.62,-144.05C515.31,-135.59 522.29,-125.19 528.56,-115.84\"/>\n",
       "<polygon fill=\"black\" stroke=\"black\" points=\"531.63,-117.56 534.3,-107.31 525.82,-113.66 531.63,-117.56\"/>\n",
       "</g>\n",
       "<!-- temp_6 -->\n",
       "<g id=\"node14\" class=\"node\">\n",
       "<title>temp_6</title>\n",
       "<ellipse fill=\"white\" stroke=\"black\" cx=\"641.25\" cy=\"-90\" rx=\"37.89\" ry=\"18\"/>\n",
       "<text text-anchor=\"middle\" x=\"641.25\" y=\"-86.3\" font-family=\"Times,serif\" font-size=\"14.00\">temp_6</text>\n",
       "</g>\n",
       "<!-- mean_temp&#45;&gt;temp_6 -->\n",
       "<g id=\"edge13\" class=\"edge\">\n",
       "<title>mean_temp&#45;&gt;temp_6</title>\n",
       "<path fill=\"none\" stroke=\"black\" d=\"M527.18,-146.83C550.1,-135.62 582.17,-119.92 606.48,-108.02\"/>\n",
       "<polygon fill=\"black\" stroke=\"black\" points=\"608.26,-111.04 615.71,-103.5 605.19,-104.76 608.26,-111.04\"/>\n",
       "</g>\n",
       "<!-- temp_7 -->\n",
       "<g id=\"node16\" class=\"node\">\n",
       "<title>temp_7</title>\n",
       "<ellipse fill=\"white\" stroke=\"black\" cx=\"740.25\" cy=\"-90\" rx=\"37.89\" ry=\"18\"/>\n",
       "<text text-anchor=\"middle\" x=\"740.25\" y=\"-86.3\" font-family=\"Times,serif\" font-size=\"14.00\">temp_7</text>\n",
       "</g>\n",
       "<!-- mean_temp&#45;&gt;temp_7 -->\n",
       "<g id=\"edge15\" class=\"edge\">\n",
       "<title>mean_temp&#45;&gt;temp_7</title>\n",
       "<path fill=\"none\" stroke=\"black\" d=\"M538.43,-150.34C576.98,-139.98 636.79,-123.58 688.25,-108 692.29,-106.78 696.49,-105.47 700.68,-104.14\"/>\n",
       "<polygon fill=\"black\" stroke=\"black\" points=\"701.9,-107.42 710.34,-101.02 699.75,-100.76 701.9,-107.42\"/>\n",
       "</g>\n",
       "<!-- temp_8 -->\n",
       "<g id=\"node18\" class=\"node\">\n",
       "<title>temp_8</title>\n",
       "<ellipse fill=\"white\" stroke=\"black\" cx=\"844.25\" cy=\"-90\" rx=\"37.89\" ry=\"18\"/>\n",
       "<text text-anchor=\"middle\" x=\"844.25\" y=\"-86.3\" font-family=\"Times,serif\" font-size=\"14.00\">temp_8</text>\n",
       "</g>\n",
       "<!-- mean_temp&#45;&gt;temp_8 -->\n",
       "<g id=\"edge17\" class=\"edge\">\n",
       "<title>mean_temp&#45;&gt;temp_8</title>\n",
       "<path fill=\"none\" stroke=\"black\" d=\"M545.38,-153.97C602.86,-145.02 702.8,-128.27 787.25,-108 792.64,-106.7 798.29,-105.2 803.84,-103.64\"/>\n",
       "<polygon fill=\"black\" stroke=\"black\" points=\"805.02,-106.94 813.65,-100.79 803.07,-100.22 805.02,-106.94\"/>\n",
       "</g>\n",
       "<!-- temp_9 -->\n",
       "<g id=\"node20\" class=\"node\">\n",
       "<title>temp_9</title>\n",
       "<ellipse fill=\"white\" stroke=\"black\" cx=\"959.25\" cy=\"-90\" rx=\"37.89\" ry=\"18\"/>\n",
       "<text text-anchor=\"middle\" x=\"959.25\" y=\"-86.3\" font-family=\"Times,serif\" font-size=\"14.00\">temp_9</text>\n",
       "</g>\n",
       "<!-- mean_temp&#45;&gt;temp_9 -->\n",
       "<g id=\"edge19\" class=\"edge\">\n",
       "<title>mean_temp&#45;&gt;temp_9</title>\n",
       "<path fill=\"none\" stroke=\"black\" d=\"M548.16,-156.06C623.08,-148.25 768.86,-131.47 891.25,-108 899.75,-106.37 908.78,-104.33 917.39,-102.24\"/>\n",
       "<polygon fill=\"black\" stroke=\"black\" points=\"918.39,-105.6 927.24,-99.78 916.69,-98.81 918.39,-105.6\"/>\n",
       "</g>\n",
       "<!-- sensor_0 -->\n",
       "<g id=\"node3\" class=\"node\">\n",
       "<title>sensor_0</title>\n",
       "<ellipse fill=\"gray\" stroke=\"black\" cx=\"42.25\" cy=\"-18\" rx=\"42.49\" ry=\"18\"/>\n",
       "<text text-anchor=\"middle\" x=\"42.25\" y=\"-14.3\" font-family=\"Times,serif\" font-size=\"14.00\">sensor_0</text>\n",
       "</g>\n",
       "<!-- temp_0&#45;&gt;sensor_0 -->\n",
       "<g id=\"edge2\" class=\"edge\">\n",
       "<title>temp_0&#45;&gt;sensor_0</title>\n",
       "<path fill=\"none\" stroke=\"black\" d=\"M45.26,-71.7C44.82,-63.98 44.29,-54.71 43.8,-46.11\"/>\n",
       "<polygon fill=\"black\" stroke=\"black\" points=\"47.29,-45.89 43.22,-36.1 40.3,-46.29 47.29,-45.89\"/>\n",
       "</g>\n",
       "<!-- sensor_1 -->\n",
       "<g id=\"node5\" class=\"node\">\n",
       "<title>sensor_1</title>\n",
       "<ellipse fill=\"gray\" stroke=\"black\" cx=\"144.25\" cy=\"-18\" rx=\"42.49\" ry=\"18\"/>\n",
       "<text text-anchor=\"middle\" x=\"144.25\" y=\"-14.3\" font-family=\"Times,serif\" font-size=\"14.00\">sensor_1</text>\n",
       "</g>\n",
       "<!-- temp_1&#45;&gt;sensor_1 -->\n",
       "<g id=\"edge4\" class=\"edge\">\n",
       "<title>temp_1&#45;&gt;sensor_1</title>\n",
       "<path fill=\"none\" stroke=\"black\" d=\"M147.26,-71.7C146.82,-63.98 146.29,-54.71 145.8,-46.11\"/>\n",
       "<polygon fill=\"black\" stroke=\"black\" points=\"149.29,-45.89 145.22,-36.1 142.3,-46.29 149.29,-45.89\"/>\n",
       "</g>\n",
       "<!-- sensor_2 -->\n",
       "<g id=\"node7\" class=\"node\">\n",
       "<title>sensor_2</title>\n",
       "<ellipse fill=\"gray\" stroke=\"black\" cx=\"246.25\" cy=\"-18\" rx=\"42.49\" ry=\"18\"/>\n",
       "<text text-anchor=\"middle\" x=\"246.25\" y=\"-14.3\" font-family=\"Times,serif\" font-size=\"14.00\">sensor_2</text>\n",
       "</g>\n",
       "<!-- temp_2&#45;&gt;sensor_2 -->\n",
       "<g id=\"edge6\" class=\"edge\">\n",
       "<title>temp_2&#45;&gt;sensor_2</title>\n",
       "<path fill=\"none\" stroke=\"black\" d=\"M249.26,-71.7C248.82,-63.98 248.29,-54.71 247.8,-46.11\"/>\n",
       "<polygon fill=\"black\" stroke=\"black\" points=\"251.29,-45.89 247.22,-36.1 244.3,-46.29 251.29,-45.89\"/>\n",
       "</g>\n",
       "<!-- sensor_3 -->\n",
       "<g id=\"node9\" class=\"node\">\n",
       "<title>sensor_3</title>\n",
       "<ellipse fill=\"gray\" stroke=\"black\" cx=\"348.25\" cy=\"-18\" rx=\"42.49\" ry=\"18\"/>\n",
       "<text text-anchor=\"middle\" x=\"348.25\" y=\"-14.3\" font-family=\"Times,serif\" font-size=\"14.00\">sensor_3</text>\n",
       "</g>\n",
       "<!-- temp_3&#45;&gt;sensor_3 -->\n",
       "<g id=\"edge8\" class=\"edge\">\n",
       "<title>temp_3&#45;&gt;sensor_3</title>\n",
       "<path fill=\"none\" stroke=\"black\" d=\"M351.26,-71.7C350.82,-63.98 350.29,-54.71 349.8,-46.11\"/>\n",
       "<polygon fill=\"black\" stroke=\"black\" points=\"353.29,-45.89 349.22,-36.1 346.3,-46.29 353.29,-45.89\"/>\n",
       "</g>\n",
       "<!-- sensor_4 -->\n",
       "<g id=\"node11\" class=\"node\">\n",
       "<title>sensor_4</title>\n",
       "<ellipse fill=\"gray\" stroke=\"black\" cx=\"450.25\" cy=\"-18\" rx=\"42.49\" ry=\"18\"/>\n",
       "<text text-anchor=\"middle\" x=\"450.25\" y=\"-14.3\" font-family=\"Times,serif\" font-size=\"14.00\">sensor_4</text>\n",
       "</g>\n",
       "<!-- temp_4&#45;&gt;sensor_4 -->\n",
       "<g id=\"edge10\" class=\"edge\">\n",
       "<title>temp_4&#45;&gt;sensor_4</title>\n",
       "<path fill=\"none\" stroke=\"black\" d=\"M451,-71.7C450.89,-63.98 450.76,-54.71 450.63,-46.11\"/>\n",
       "<polygon fill=\"black\" stroke=\"black\" points=\"454.13,-46.05 450.49,-36.1 447.13,-46.15 454.13,-46.05\"/>\n",
       "</g>\n",
       "<!-- sensor_5 -->\n",
       "<g id=\"node13\" class=\"node\">\n",
       "<title>sensor_5</title>\n",
       "<ellipse fill=\"gray\" stroke=\"black\" cx=\"552.25\" cy=\"-18\" rx=\"42.49\" ry=\"18\"/>\n",
       "<text text-anchor=\"middle\" x=\"552.25\" y=\"-14.3\" font-family=\"Times,serif\" font-size=\"14.00\">sensor_5</text>\n",
       "</g>\n",
       "<!-- temp_5&#45;&gt;sensor_5 -->\n",
       "<g id=\"edge12\" class=\"edge\">\n",
       "<title>temp_5&#45;&gt;sensor_5</title>\n",
       "<path fill=\"none\" stroke=\"black\" d=\"M546.98,-71.7C547.75,-63.98 548.68,-54.71 549.54,-46.11\"/>\n",
       "<polygon fill=\"black\" stroke=\"black\" points=\"553.02,-46.4 550.54,-36.1 546.06,-45.71 553.02,-46.4\"/>\n",
       "</g>\n",
       "<!-- sensor_6 -->\n",
       "<g id=\"node15\" class=\"node\">\n",
       "<title>sensor_6</title>\n",
       "<ellipse fill=\"gray\" stroke=\"black\" cx=\"654.25\" cy=\"-18\" rx=\"42.49\" ry=\"18\"/>\n",
       "<text text-anchor=\"middle\" x=\"654.25\" y=\"-14.3\" font-family=\"Times,serif\" font-size=\"14.00\">sensor_6</text>\n",
       "</g>\n",
       "<!-- temp_6&#45;&gt;sensor_6 -->\n",
       "<g id=\"edge14\" class=\"edge\">\n",
       "<title>temp_6&#45;&gt;sensor_6</title>\n",
       "<path fill=\"none\" stroke=\"black\" d=\"M644.39,-72.05C645.82,-64.35 647.56,-55.03 649.16,-46.36\"/>\n",
       "<polygon fill=\"black\" stroke=\"black\" points=\"652.65,-46.75 651.04,-36.28 645.77,-45.47 652.65,-46.75\"/>\n",
       "</g>\n",
       "<!-- sensor_7 -->\n",
       "<g id=\"node17\" class=\"node\">\n",
       "<title>sensor_7</title>\n",
       "<ellipse fill=\"gray\" stroke=\"black\" cx=\"756.25\" cy=\"-18\" rx=\"42.49\" ry=\"18\"/>\n",
       "<text text-anchor=\"middle\" x=\"756.25\" y=\"-14.3\" font-family=\"Times,serif\" font-size=\"14.00\">sensor_7</text>\n",
       "</g>\n",
       "<!-- temp_7&#45;&gt;sensor_7 -->\n",
       "<g id=\"edge16\" class=\"edge\">\n",
       "<title>temp_7&#45;&gt;sensor_7</title>\n",
       "<path fill=\"none\" stroke=\"black\" d=\"M744.12,-72.05C745.9,-64.26 748.06,-54.82 750.06,-46.08\"/>\n",
       "<polygon fill=\"black\" stroke=\"black\" points=\"753.48,-46.8 752.3,-36.28 746.66,-45.24 753.48,-46.8\"/>\n",
       "</g>\n",
       "<!-- sensor_8 -->\n",
       "<g id=\"node19\" class=\"node\">\n",
       "<title>sensor_8</title>\n",
       "<ellipse fill=\"gray\" stroke=\"black\" cx=\"858.25\" cy=\"-18\" rx=\"42.49\" ry=\"18\"/>\n",
       "<text text-anchor=\"middle\" x=\"858.25\" y=\"-14.3\" font-family=\"Times,serif\" font-size=\"14.00\">sensor_8</text>\n",
       "</g>\n",
       "<!-- temp_8&#45;&gt;sensor_8 -->\n",
       "<g id=\"edge18\" class=\"edge\">\n",
       "<title>temp_8&#45;&gt;sensor_8</title>\n",
       "<path fill=\"none\" stroke=\"black\" d=\"M847.64,-72.05C849.18,-64.35 851.04,-55.03 852.77,-46.36\"/>\n",
       "<polygon fill=\"black\" stroke=\"black\" points=\"856.26,-46.77 854.79,-36.28 849.4,-45.39 856.26,-46.77\"/>\n",
       "</g>\n",
       "<!-- sensor_9 -->\n",
       "<g id=\"node21\" class=\"node\">\n",
       "<title>sensor_9</title>\n",
       "<ellipse fill=\"gray\" stroke=\"black\" cx=\"960.25\" cy=\"-18\" rx=\"42.49\" ry=\"18\"/>\n",
       "<text text-anchor=\"middle\" x=\"960.25\" y=\"-14.3\" font-family=\"Times,serif\" font-size=\"14.00\">sensor_9</text>\n",
       "</g>\n",
       "<!-- temp_9&#45;&gt;sensor_9 -->\n",
       "<g id=\"edge20\" class=\"edge\">\n",
       "<title>temp_9&#45;&gt;sensor_9</title>\n",
       "<path fill=\"none\" stroke=\"black\" d=\"M959.49,-71.7C959.6,-63.98 959.74,-54.71 959.86,-46.11\"/>\n",
       "<polygon fill=\"black\" stroke=\"black\" points=\"963.36,-46.15 960,-36.1 956.36,-46.05 963.36,-46.15\"/>\n",
       "</g>\n",
       "</g>\n",
       "</svg>\n"
      ],
      "text/plain": [
       "<graphviz.graphs.Digraph at 0x11df44220>"
      ]
     },
     "execution_count": 28,
     "metadata": {},
     "output_type": "execute_result"
    }
   ],
   "source": [
    "#Visualize the model\n",
    "pyro.render_model(model, model_args=(obs, ))"
   ]
  },
  {
   "cell_type": "markdown",
   "metadata": {
    "id": "jJfVNZFBL-0y"
   },
   "source": [
    "<img src=\"https://github.com/PGM-Lab/probai-2021-pyro/blob/main/Day1/Figures/blue.png?raw=1\" alt=\"Drawing\" width=2000 height=20>\n",
    "\n",
    "We perform inference over this model (see Slides from the last lecture):\n",
    "\n",
    " $$ p(\\mu_t | s_1,\\ldots, s_n)=\\frac{p(\\mu_t)\\prod_{i=1}^n \\int p(s_i|t_i)p(t_i|\\mu_t)dt_i }{\\int \\prod_{i=1}^n p(s_i|\\mu_t)p(\\mu_t) d\\mu} $$\n"
   ]
  },
  {
   "cell_type": "code",
   "execution_count": 29,
   "metadata": {
    "colab": {
     "base_uri": "https://localhost:8080/"
    },
    "id": "W0YiqM36L-0z",
    "outputId": "dae46c1e-5583-4c73-9ecf-39efedf730f2"
   },
   "outputs": [
    {
     "name": "stdout",
     "output_type": "stream",
     "text": [
      "Step: 0. Loss: 2015.5953184366226\n",
      "Step: 100. Loss: 286.3637125492096\n",
      "Step: 200. Loss: 57.62918394804001\n",
      "Step: 300. Loss: 25.598888337612152\n",
      "Step: 400. Loss: 23.2999709546566\n",
      "P(mean_temp|Sensor=[18., 18.7, 19.2, 17.8, 20.3, 22.4, 20.3, 21.2, 19.5, 20.1]) =\n",
      "Normal(loc: 19.180583953857422, scale: 0.6147986650466919)\n",
      "\n",
      "5.2099609375 seconds\n"
     ]
    }
   ],
   "source": [
    "import time\n",
    "        \n",
    "#Run inference\n",
    "start = time.time()\n",
    "svi(model, obs)\n",
    "\n",
    "#Print results\n",
    "print(\"P(mean_temp|Sensor=[18., 18.7, 19.2, 17.8, 20.3, 22.4, 20.3, 21.2, 19.5, 20.1]) =\")\n",
    "print(dist.Normal(pyro.param(\"AutoNormal.locs.mean_temp\").item(), pyro.param(\"AutoNormal.scales.mean_temp\").item()))\n",
    "print(\"\")\n",
    "end = time.time()\n",
    "print(f\"{(end - start)} seconds\")"
   ]
  },
  {
   "cell_type": "markdown",
   "metadata": {
    "id": "YFKoGLcnL-0z"
   },
   "source": [
    "As we also saw in the last lecture, the result of the learning is **not a point estimate**. Instead we have a **posterior distribution**, which captures the **uncertainty** about the estimation."
   ]
  },
  {
   "cell_type": "code",
   "execution_count": 31,
   "metadata": {
    "colab": {
     "base_uri": "https://localhost:8080/",
     "height": 265
    },
    "id": "ES_yHXNKL-0z",
    "outputId": "6ff35c3e-a19b-4936-ba6e-9947c9b237d1"
   },
   "outputs": [
    {
     "data": {
      "image/png": "[encoded data removed]",
      "text/plain": [
       "<Figure size 640x480 with 1 Axes>"
      ]
     },
     "metadata": {},
     "output_type": "display_data"
    }
   ],
   "source": [
    "import numpy as np\n",
    "import scipy.stats as stats\n",
    "\n",
    "mu = pyro.param(\"AutoNormal.locs.mean_temp\").item()\n",
    "scale = pyro.param(\"AutoNormal.scales.mean_temp\").item()\n",
    "x = np.linspace(mu - 3*scale, mu + 3*scale, 100)\n",
    "plt.plot(x, stats.norm.pdf(x, mu, scale), label='Posterior over $\\mu$')\n",
    "point = mle_mean_temp # Previously calculated above\n",
    "plt.plot([point, point],[0., 1.], label='MLE point estimate of $\\mu$')\n",
    "plt.legend()\n",
    "plt.show()"
   ]
  },
  {
   "cell_type": "markdown",
   "metadata": {
    "id": "1SXUdMtUL-00"
   },
   "source": [
    "<img src=\"https://github.com/PGM-Lab/probai-2021-pyro/blob/main/Day1/Figures/blue.png\" alt=\"Drawing\" width=2000 height=20>\n",
    "\n",
    "\n",
    "### 3.3 The use of ``plate`` construct\n",
    "\n",
    "* Pyro can exploit **conditional independencies and vectorization** to make inference much faster. \n",
    "\n",
    "* This can be done with the construct **``plate``**. \n",
    "\n",
    "* With this construct, we can indicate that the variables $s_i$ and $t_i$ are **conditionally indepdendent** from other variables $s_j$ and $t_j$ given $\\mu_t$. \n",
    "\n",
    "<center>\n",
    "<img src=\"https://github.com/PGM-Lab/probai-2021-pyro/blob/main/Day1/Figures/PGM-Tem-Sensor2.png?raw=1\" alt=\"Drawing\" width=\"150\">\n",
    "</center>"
   ]
  },
  {
   "cell_type": "code",
   "execution_count": 32,
   "metadata": {
    "id": "4LlQKqp4L-00"
   },
   "outputs": [],
   "source": [
    "#The observatons   \n",
    "obs = {'sensor': torch.tensor([18., 18.7, 19.2, 17.8, 20.3, 22.4, 20.3, 21.2, 19.5, 20.1])}\n",
    "\n",
    "def model(obs):\n",
    "    mean_temp = pyro.sample('mean_temp', dist.Normal(15.0, 2.0))\n",
    "    with pyro.plate('a', obs['sensor'].shape[0]):\n",
    "        temp = pyro.sample('temp', dist.Normal(mean_temp, 2.0))\n",
    "        sensor = pyro.sample('sensor', dist.Normal(temp, 1.0), obs=obs['sensor'])"
   ]
  },
  {
   "cell_type": "markdown",
   "metadata": {
    "id": "yAh8vLjLL-00"
   },
   "source": [
    "The ``plate`` construct reflects the standard notational use in graphical models denoting the **repetition of some parts of of the graph**. \n",
    "<center>\n",
    "<img src=\"https://github.com/PGM-Lab/probai-2021-pyro/blob/main/Day1/Figures/PGM-Tem-Sensor3.png?raw=1\" alt=\"Drawing\" width=\"250\">\n",
    "</center>\n",
    "\n",
    "We can here make a distinction between **local** and **global** random variables: \n",
    "\n",
    "* **Local random variables** caputure **specific information** about the $i$-th data sample (i.e. the real temperature at this moment in time).\n",
    "\n",
    "* **Global random variables** capture **common information** about all the data samples (i.e. the average temperature of all data samples). \n",
    "\n",
    "<img src=\"https://github.com/PGM-Lab/probai-2021-pyro/blob/main/Day1/Figures/blue.png?raw=1\" alt=\"Drawing\" width=2000 height=20>\n",
    "\n",
    "\n",
    "Observe how inference in this model is much **faster**. "
   ]
  },
  {
   "cell_type": "code",
   "execution_count": 34,
   "metadata": {
    "colab": {
     "base_uri": "https://localhost:8080/"
    },
    "id": "ASYtP3j0L-01",
    "outputId": "01793daa-19bd-4552-8486-392af3eeb5e6"
   },
   "outputs": [
    {
     "name": "stdout",
     "output_type": "stream",
     "text": [
      "Step: 0. Loss: 2015.5951808691025\n",
      "Step: 100. Loss: 286.3637121915817\n",
      "Step: 200. Loss: 57.62918198108673\n",
      "Step: 300. Loss: 25.59889566898346\n",
      "Step: 400. Loss: 23.299971967935562\n",
      "P(mean_temp|Sensor=[18., 18.7, 19.2, 17.8, 20.3, 22.4, 20.3, 21.2, 19.5, 20.1]) =\n",
      "Normal(loc: 19.180583953857422, scale: 0.6147986650466919)\n",
      "\n",
      "1.277097225189209 seconds\n"
     ]
    }
   ],
   "source": [
    "#Run inference\n",
    "start = time.time()\n",
    "svi(model, obs)\n",
    "\n",
    "#Print results\n",
    "print(\"P(mean_temp|Sensor=[18., 18.7, 19.2, 17.8, 20.3, 22.4, 20.3, 21.2, 19.5, 20.1]) =\")\n",
    "print(dist.Normal(pyro.param(\"AutoNormal.locs.mean_temp\").item(), pyro.param(\"AutoNormal.scales.mean_temp\").item()))\n",
    "print(\"\")\n",
    "end = time.time()\n",
    "print(f\"{(end - start)} seconds\")"
   ]
  },
  {
   "cell_type": "markdown",
   "metadata": {},
   "source": [
    "<img src=\"https://github.com/PGM-Lab/probai-2021-pyro/blob/main/Day1/Figures/blue.png?raw=1\" alt=\"Drawing\" width=2000 height=20>\n",
    "\n",
    "\n",
    "### **<span style=\"color:red\">Exercise 2: </span>The role of *prior distributions* in learning**\n",
    "\n",
    "In this case we just want to illustrate how the output of learning depends of the particular prior we introduce in the model. Play with different options and extract conclusions:\n",
    "\n",
    "1. What happens if we change the mean of the prior?\n",
    "2. What happens if we change the scale of the prior?\n",
    "3. What happens to the posterior if the number of data samples deacreases and increases?\n",
    "\n",
    "The code below might be helpful."
   ]
  },
  {
   "cell_type": "code",
   "execution_count": 36,
   "metadata": {
    "colab": {
     "base_uri": "https://localhost:8080/",
     "height": 367
    },
    "id": "5OWLg5tvL-01",
    "outputId": "c6e80f76-72af-41ec-a581-de6c2421fb59"
   },
   "outputs": [
    {
     "name": "stdout",
     "output_type": "stream",
     "text": [
      "Step: 0. Loss: 1827.4828042826157\n",
      "Step: 100. Loss: 263.50382657748986\n",
      "Step: 200. Loss: 55.99980222903987\n",
      "Step: 300. Loss: 26.751384355937056\n",
      "Step: 400. Loss: 24.743153109693864\n",
      "P(Temperature|Sensor=18.0) = \n",
      "Normal(loc: 18.26260757446289, scale: 0.6152685284614563)\n"
     ]
    },
    {
     "data": {
      "image/png": "[encoded data removed]",
      "text/plain": [
       "<Figure size 640x480 with 1 Axes>"
      ]
     },
     "metadata": {},
     "output_type": "display_data"
    }
   ],
   "source": [
    "#The observatons   \n",
    "sample_size = 10\n",
    "obs = {'sensor': torch.tensor(np.random.normal(18,2,sample_size))}\n",
    "\n",
    "def model(obs):\n",
    "    mean_temp = pyro.sample('mean_temp', dist.Normal(15.0, 2.0))\n",
    "    with pyro.plate('N='+str(obs['sensor'].shape[0]), obs['sensor'].shape[0]):\n",
    "        temp = pyro.sample('temp', dist.Normal(mean_temp, 2.0))\n",
    "        sensor = pyro.sample('sensor', dist.Normal(temp, 1.0), obs=obs['sensor'])\n",
    "\n",
    "#Run inference\n",
    "svi(model, obs)\n",
    "\n",
    "#Print results\n",
    "print(\"P(Temperature|Sensor=18.0) = \")\n",
    "print(dist.Normal(pyro.param(\"AutoNormal.locs.mean_temp\").item(), pyro.param(\"AutoNormal.scales.mean_temp\").item()))\n",
    "\n",
    "x = np.linspace(16, 20, 100)\n",
    "plt.plot(x, stats.norm.pdf(x, pyro.param(\"AutoNormal.locs.mean_temp\").item(), pyro.param(\"AutoNormal.scales.mean_temp\").item()), label='Posterior')\n",
    "point = 18\n",
    "plt.plot([point, point],[0., 1.], label='Point Estimate')\n",
    "plt.xlim(16,20)\n",
    "plt.legend()\n",
    "plt.show()\n"
   ]
  }
 ],
 "metadata": {
  "colab": {
   "include_colab_link": true,
   "name": "solutions_PPLs_Intro.ipynb",
   "provenance": []
  },
  "kernelspec": {
   "display_name": "Python 3",
   "language": "python",
   "name": "python3"
  },
  "language_info": {
   "codemirror_mode": {
    "name": "ipython",
    "version": 3
   },
   "file_extension": ".py",
   "mimetype": "text/x-python",
   "name": "python",
   "nbconvert_exporter": "python",
   "pygments_lexer": "ipython3",
   "version": "3.8.5"
  }
 },
 "nbformat": 4,
 "nbformat_minor": 4
}
