{
 "cells": [
  {
   "cell_type": "markdown",
   "metadata": {
    "id": "a75mGrGgL-0g"
   },
   "source": [
    "<img src=\"https://github.com/PGM-Lab/probai-2021-pyro/blob/main/Day1/Figures/blue.png?raw=1\" alt=\"Drawing\" width=2000 height=20>\n",
    "\n",
    "\n",
    "# Setup\n",
    "Let's begin by installing and importing the modules we'll need."
   ]
  },
  {
   "cell_type": "code",
   "execution_count": 3,
   "metadata": {
    "id": "7Owp2eKrL-0j"
   },
   "outputs": [],
   "source": [
    "#!pip install -q --upgrade pyro-ppl torch\n",
    "import pyro\n",
    "import torch\n",
    "import pyro.distributions as dist\n",
    "import matplotlib.pyplot as plt\n",
    "#assert pyro.__version__.startswith('1.8.1')"
   ]
  },
  {
   "cell_type": "markdown",
   "metadata": {
    "id": "uf7kVC-hL-03"
   },
   "source": [
    "<img src=\"https://github.com/PGM-Lab/probai-2021-pyro/blob/main/Day1/Figures/blue.png?raw=1\" alt=\"Drawing\" width=2000 height=20>\n",
    "\n",
    "\n",
    "# Icecream Shop\n",
    "\n",
    "In this self study session, you will be modeling the sales in an ice cream shop. Below you will find an initial specification, and in the following sections you should elaborate on this initial specificaton.\n",
    "\n",
    "The basis for our model is that \n",
    "* We **record the ice-cream sales and the average temperature of the day** (using a temperature sensor).\n",
    "\n",
    "* We know **temperature affects the sales** of ice-creams.\n",
    "\n",
    "* We want to **precisely model** how temperature affects ice-cream sales.\n",
    "\n",
    "<center>\n",
    "<img src=\"https://github.com/PGM-Lab/probai-2021-pyro/raw/main/Day1/Figures/Ice-cream_shop_-_Florida.jpg\" alt=\"Drawing\" width=300 >\n",
    "</center>\n",
    "\n",
    "Note that the model given below is a extension of the temperature model that we explored during the last lecture.\n"
   ]
  },
  {
   "cell_type": "markdown",
   "metadata": {
    "id": "uv2fWAHxDRxO"
   },
   "source": [
    "<img src=\"https://github.com/PGM-Lab/probai-2021-pyro/blob/main/Day1/Figures/blue.png?raw=1\" alt=\"Drawing\" width=2000 height=20>\n",
    "\n",
    "\n",
    "## Model specification\n",
    "\n",
    "* We have **observations** from temperature and sales:\n",
    ">- The relation between the daily temperature $t_i$ and the measured temperature $s_{t,i}$ will be modeled with a Normal distribution as in the last lecture. \n",
    "* Daily sales $s_i$ are modeled with a <a href=\"https://en.wikipedia.org/wiki/Poisson_distribution\">Poisson distribution</a>, which expresses the probability of a given number of sales per day based on a so-called rate parameter (the mean and variance of the Poisson distribution is also equal to the rate parameeter):\n",
    ">- We assume that the rate of the Poisson distribution **linearly depends of the real temperature**.\n",
    "\n",
    "The figure below gives a formal description of the model:\n",
    "<center>\n",
    "<img src=\"https://github.com/PGM-Lab/probai-2021-pyro/blob/main/Day1/Figures/Ice-Cream-Shop-Model.png?raw=1\" alt=\"Drawing\" width=700>\n",
    "</center>\n",
    "\n"
   ]
  },
  {
   "cell_type": "markdown",
   "metadata": {},
   "source": [
    "### Pyro specification of the ice-cream model"
   ]
  },
  {
   "cell_type": "code",
   "execution_count": 4,
   "metadata": {
    "id": "HR8bu27OL-03"
   },
   "outputs": [],
   "source": [
    "#The observatons   \n",
    "obs = {'sensor': torch.tensor([18., 18.7, 19.2, 17.8, 20.3, 22.4, 20.3, 21.2, 19.5, 20.1]),\n",
    "       'sales': torch.tensor([46., 47., 49., 44., 50., 54., 51., 52., 49., 53.])}\n",
    "\n",
    "def model(obs):\n",
    "    mean_temp = pyro.sample('mean_temp', dist.Normal(15.0, 2.0))\n",
    "    alpha = pyro.sample('alpha', dist.Normal(0.0, 100.0))\n",
    "    beta = pyro.sample('beta', dist.Normal(0.0, 100.0))\n",
    "\n",
    "    with pyro.plate('N='+str(obs['sensor'].shape[0]), obs['sensor'].shape[0]):\n",
    "        temp = pyro.sample('temp', dist.Normal(mean_temp, 2.0))\n",
    "        sensor = pyro.sample('sensor', dist.Normal(temp, 1.0), obs=obs['sensor'])\n",
    "        rate = torch.max(torch.tensor(0.001), alpha + beta*temp)\n",
    "        sales = pyro.sample('sales', dist.Poisson(rate), obs=obs['sales'])\n",
    "\n",
    "#Visualize the model\n",
    "#pyro.render_model(model, model_args=(obs, ))"
   ]
  },
  {
   "cell_type": "markdown",
   "metadata": {
    "id": "gT34C5CpDmPZ"
   },
   "source": [
    "<img src=\"https://github.com/PGM-Lab/probai-2021-pyro/blob/main/Day1/Figures/blue.png?raw=1\" alt=\"Drawing\" width=2000 height=20>\n"
   ]
  },
  {
   "cell_type": "markdown",
   "metadata": {
    "jupyter": {
     "source_hidden": true
    },
    "tags": []
   },
   "source": [
    "### Auxiliary function"
   ]
  },
  {
   "cell_type": "markdown",
   "metadata": {},
   "source": [
    "In SVI, the goal is to maximize the evidence lower bound (ELBO), which serves as the loss function. The ELBO is a lower bound on the log marginal likelihood of the model, and maximizing it corresponds to minimizing the Kullback-Leibler (KL) divergence between the true posterior distribution and the approximating distribution (in this case, the AutoNormal guide)."
   ]
  },
  {
   "cell_type": "code",
   "execution_count": 5,
   "metadata": {
    "jupyter": {
     "source_hidden": true
    },
    "tags": []
   },
   "outputs": [],
   "source": [
    "from torch.distributions import constraints\n",
    "from pyro.optim import SGD\n",
    "from pyro.infer import Trace_ELBO\n",
    "import matplotlib.pyplot as plt\n",
    "from pyro.contrib.autoguide import AutoNormal\n",
    "\n",
    "\n",
    "def svi(model, obs, guide=None, num_steps = 500, plot = False, verbose=False, lr=0.01):\n",
    "    \n",
    "    torch.manual_seed(999)\n",
    "\n",
    "    pyro.clear_param_store()\n",
    "    \n",
    "    if guide is None:\n",
    "        guide = AutoNormal(model)\n",
    "    \n",
    "    svi = pyro.infer.SVI(model=model,\n",
    "                         guide=guide,\n",
    "                         optim=SGD({\"lr\": lr, \"momentum\":0.1}),\n",
    "                         loss=Trace_ELBO())\n",
    "\n",
    "    losses, a,b  = [], [], []\n",
    "    \n",
    "    for t in range(num_steps):\n",
    "        losses.append(svi.step(obs))\n",
    "        if t%100==0:\n",
    "            print('Step: '+str(t)+'. Loss: ' +str(losses[-1]))\n",
    "            \n",
    "\n",
    "    if (plot):\n",
    "        plt.plot(losses)\n",
    "        plt.title(\"ELBO\")\n",
    "        plt.xlabel(\"step\")\n",
    "        plt.ylabel(\"loss\");\n",
    "        plt.show()\n",
    "        \n",
    "    if verbose:\n",
    "        print(\"Inference results:\")\n",
    "        for name, value in pyro.get_param_store().items():\n",
    "            print(name, pyro.param(name))"
   ]
  },
  {
   "cell_type": "markdown",
   "metadata": {},
   "source": [
    "## Learning and inference\n",
    "\n",
    "Let's take our model out for a test run"
   ]
  },
  {
   "cell_type": "code",
   "execution_count": 6,
   "metadata": {
    "colab": {
     "base_uri": "https://localhost:8080/"
    },
    "id": "gmaOTBYAL-03",
    "outputId": "7a6bd327-e423-4a9b-8cc0-96fa95cdaf9c"
   },
   "outputs": [
    {
     "name": "stdout",
     "output_type": "stream",
     "text": [
      "Step: 0. Loss: 6918.239556312561\n",
      "Step: 100. Loss: 1706.8236722946167\n",
      "Step: 200. Loss: 1406.9380152225494\n",
      "Step: 300. Loss: 1167.6915589571\n",
      "Step: 400. Loss: 969.2325354814529\n",
      "Step: 500. Loss: 804.8420561552048\n",
      "Step: 600. Loss: 669.4958707690239\n",
      "Step: 700. Loss: 560.7486241459846\n",
      "Step: 800. Loss: 474.48593854904175\n",
      "Step: 900. Loss: 392.1056379079819\n",
      "Step: 1000. Loss: 340.65715539455414\n",
      "Step: 1100. Loss: 280.3072943687439\n",
      "Step: 1200. Loss: 257.1041859984398\n",
      "Step: 1300. Loss: 207.26763075590134\n",
      "Step: 1400. Loss: 189.91815966367722\n",
      "Step: 1500. Loss: 164.52883219718933\n",
      "Step: 1600. Loss: 154.52774381637573\n",
      "Step: 1700. Loss: 126.25959062576294\n",
      "Step: 1800. Loss: 117.71674519777298\n",
      "Step: 1900. Loss: 112.76154679059982\n",
      "Step: 2000. Loss: 100.08532202243805\n",
      "Step: 2100. Loss: 98.10363984107971\n",
      "Step: 2200. Loss: 92.16423934698105\n",
      "Step: 2300. Loss: 80.70324516296387\n",
      "Step: 2400. Loss: 79.52285540103912\n",
      "Step: 2500. Loss: 71.62698209285736\n",
      "Step: 2600. Loss: 76.57986891269684\n",
      "Step: 2700. Loss: 68.35294634103775\n",
      "Step: 2800. Loss: 70.6405485868454\n",
      "Step: 2900. Loss: 64.48280102014542\n",
      "Posterior temperature mean\n",
      "Normal(loc: 17.972440719604492, scale: 0.5351166725158691)\n",
      "\n",
      "Posterior alpha\n",
      "Normal(loc: 39.841854095458984, scale: 1.1383755207061768)\n",
      "\n",
      "Posterior beta\n",
      "Normal(loc: 0.5334267616271973, scale: 0.12256141752004623)\n"
     ]
    }
   ],
   "source": [
    "#Run inference\n",
    "svi(model, obs, num_steps = 3000, lr = 0.001)\n",
    "\n",
    "#Print results    \n",
    "print(\"Posterior temperature mean\")\n",
    "print(dist.Normal(pyro.param(\"AutoNormal.locs.mean_temp\").item(), pyro.param(\"AutoNormal.scales.mean_temp\").item()))\n",
    "print(\"\")\n",
    "print(\"Posterior alpha\")\n",
    "print(dist.Normal(pyro.param(\"AutoNormal.locs.alpha\").item(), pyro.param(\"AutoNormal.scales.alpha\").item()))\n",
    "print(\"\")\n",
    "print(\"Posterior beta\")\n",
    "print(dist.Normal(pyro.param(\"AutoNormal.locs.beta\").item(), pyro.param(\"AutoNormal.scales.beta\").item()))\n"
   ]
  },
  {
   "cell_type": "markdown",
   "metadata": {},
   "source": [
    "<img src=\"https://github.com/PGM-Lab/probai-2021-pyro/blob/main/Day1/Figures/blue.png?raw=1\" alt=\"Drawing\" width=2000 height=20>\n",
    "\n",
    "\n",
    "### <span style=\"color:red\">Exercise 1: Analyze the model above </span> \n",
    "* Consider the model specification together with the posterior distributions over the model parameters. Do the these distributions appear reasonabale to you considering the model and the data that you have supplied?"
   ]
  },
  {
   "cell_type": "markdown",
   "metadata": {},
   "source": [
    "**Mean temperature**: N(17.97, 0.53)\n",
    "\n",
    "The prior mean was N(15, 2). And the new observations by the sensor lead us to think that the temperature has risen, since the mean of the values for the sensor is 19.75. Therefore it's natural for the model to update the distribution of the temperature by rising it slightly.\n",
    "\n",
    "**Posterior alpha**: N(39.84, 1.13)\n",
    "\n",
    "Measures baseline of sales when the temperature is zero. In my opinion this coefficient is a bit too high, since when the temperatures are cold the icecream shop still expects to do particularly well in sales.\n",
    "\n",
    "**Posterior beta**: N(0.53, 0.12)\n",
    "\n",
    "It does make sense for posterior beta to be positive, since there is a positive correlation between the temperature and the sales of the icecream shop."
   ]
  },
  {
   "cell_type": "markdown",
   "metadata": {
    "id": "4ulfx96AL-04"
   },
   "source": [
    "<img src=\"https://github.com/PGM-Lab/probai-2021-pyro/blob/main/Day1/Figures/blue.png?raw=1\" alt=\"Drawing\" width=2000 height=20>\n",
    "\n",
    "\n",
    "### <span style=\"color:red\">Exercise 2: Introduce Humidity in the Icecream shop model </span> \n",
    "\n",
    "In this exercise you should extend the model above to also account for the daily humidity $h_i$:\n",
    "* Assume we also have a bunch of daily humidity sensor measurements $s_{h,i}$.\n",
    "* Assume the **sales are also linearly influenced by the humidity**.\n",
    "\n",
    "Extend the model above in order to integrate these new pieces of information.\n",
    "\n",
    "The figure below gives a formal description of the model:\n",
    "<center>\n",
    "<img src=\"https://github.com/PGM-Lab/probai-2021-pyro/blob/main/Day1/Figures/Ice-Cream-Shop-Model-Humidity.png?raw=1\" alt=\"Drawing\" width=1000>\n",
    "</center>\n",
    "\n",
    "\n"
   ]
  },
  {
   "cell_type": "code",
   "execution_count": 7,
   "metadata": {
    "id": "8UxOUxuTL-04"
   },
   "outputs": [],
   "source": [
    "#The observatons   \n",
    "obs = {'sensor': torch.tensor([18., 18.7, 19.2, 17.8, 20.3, 22.4, 20.3, 21.2, 19.5, 20.1]),\n",
    "       'sales': torch.tensor([46., 47., 49., 44., 50., 54., 51., 52., 49., 53.]),\n",
    "       'sensor_humidity': torch.tensor([82.8, 87.6, 69.1, 74.2, 80.3, 94.2, 91.2, 92.2, 99.1, 93.2])}\n",
    "\n",
    "\n",
    "def model(obs):\n",
    "    mean_temp = pyro.sample('mean_temp', dist.Normal(15.0, 2.0))\n",
    "    ## Introduce a random variable \"mean_humidity\"\n",
    "    mean_humidity = pyro.sample('mean_humidity', dist.Normal(80.0, 5.0))\n",
    "\n",
    "    alpha = pyro.sample('alpha', dist.Normal(0.0, 100.0))\n",
    "    beta = pyro.sample('beta', dist.Normal(0.0, 100.0))\n",
    "    \n",
    "    ## Introduce a coefficient for the humidity \"gamma\"\n",
    "    gamma = pyro.sample('gamma', dist.Normal(0.0, 100.0))\n",
    "\n",
    "    with pyro.plate('N='+str(obs['sensor'].shape[0]), obs['sensor'].shape[0]):\n",
    "        temp = pyro.sample('temp', dist.Normal(mean_temp, 2.0))\n",
    "        sensor = pyro.sample('sensor', dist.Normal(temp, 1.0), obs=obs['sensor'])\n",
    "        #Add the 'humidity' variable and the 'sensor_humidity' variable\n",
    "        humidity = pyro.sample('humidity', dist.Normal(mean_humidity, 2.0))\n",
    "        sensor_humidity = pyro.sample('sensor_humidity', dist.Normal(humidity, 1.0), obs = obs['sensor_humidity'])\n",
    "        #Add the linear dependency for the rate with respect to temp and humidity (keep torch.max to avoid numerical stability issues)\n",
    "        rate = torch.max(torch.tensor(0.001), alpha + beta * temp + gamma * humidity)\n",
    "        sales = pyro.sample('sales', dist.Poisson(rate), obs=obs['sales'])\n",
    "\n",
    "#Visualize the model\n",
    "#pyro.render_model(model, model_args=(obs, ))"
   ]
  },
  {
   "cell_type": "markdown",
   "metadata": {
    "id": "wC7ceQTkHrrg"
   },
   "source": [
    "<img src=\"https://github.com/PGM-Lab/probai-2021-pyro/blob/main/Day1/Figures/blue.png?raw=1\" alt=\"Drawing\" width=2000 height=20>\n",
    "\n",
    "Again, we rely on the **(variational) inference engine** to get the results."
   ]
  },
  {
   "cell_type": "code",
   "execution_count": 8,
   "metadata": {
    "colab": {
     "base_uri": "https://localhost:8080/"
    },
    "id": "NvIXRoVeL-05",
    "outputId": "d8287eee-ad25-4cf7-dcf8-ef7917a920ab"
   },
   "outputs": [
    {
     "name": "stdout",
     "output_type": "stream",
     "text": [
      "Step: 0. Loss: 43415.62390649319\n",
      "Step: 100. Loss: 32385.001614689827\n",
      "Step: 200. Loss: 26350.055327892303\n",
      "Step: 300. Loss: 21488.486026763916\n",
      "Step: 400. Loss: 17607.421809911728\n",
      "Step: 500. Loss: 14453.095253229141\n",
      "Step: 600. Loss: 11926.557882666588\n",
      "Step: 700. Loss: 9850.370415866375\n",
      "Step: 800. Loss: 8091.017718791962\n",
      "Step: 900. Loss: 6682.581264793873\n",
      "Step: 1000. Loss: 5537.713573336601\n",
      "Step: 1100. Loss: 4582.031024694443\n",
      "Step: 1200. Loss: 3812.805470943451\n",
      "Step: 1300. Loss: 3114.997103571892\n",
      "Step: 1400. Loss: 2678.0932369828224\n",
      "Step: 1500. Loss: 2197.6451115608215\n",
      "Step: 1600. Loss: 1855.675103187561\n",
      "Step: 1700. Loss: 1547.3147820830345\n",
      "Step: 1800. Loss: 1284.761683166027\n",
      "Step: 1900. Loss: 1079.213412642479\n",
      "Step: 2000. Loss: 926.1470230221748\n",
      "Step: 2100. Loss: 821.330871462822\n",
      "Step: 2200. Loss: 681.4236485958099\n",
      "Step: 2300. Loss: 590.1313971877098\n",
      "Step: 2400. Loss: 532.2305933237076\n",
      "Step: 2500. Loss: 449.0510798096657\n",
      "Step: 2600. Loss: 413.5097807645798\n",
      "Step: 2700. Loss: 381.91728150844574\n",
      "Step: 2800. Loss: 334.3417515158653\n",
      "Step: 2900. Loss: 306.2206680774689\n",
      "Posterior temperature mean\n",
      "Normal(loc: 17.949214935302734, scale: 0.544374942779541)\n",
      "\n",
      "Posterior Humidity Mean\n",
      "Normal(loc: 79.7042465209961, scale: 0.5321848392486572)\n",
      "\n",
      "Posterior alpha\n",
      "Normal(loc: 36.65719223022461, scale: 1.1258834600448608)\n",
      "\n",
      "Posterior beta\n",
      "Normal(loc: 0.9938428401947021, scale: 0.11436548084020615)\n",
      "\n",
      "Posterior Gamma\n",
      "Normal(loc: -0.08991951495409012, scale: 0.027068661525845528)\n"
     ]
    }
   ],
   "source": [
    "#Run inference\n",
    "svi(model, obs, num_steps=3000, lr=0.001)\n",
    "\n",
    "#Print results    \n",
    "print(\"Posterior temperature mean\")\n",
    "print(dist.Normal(pyro.param(\"AutoNormal.locs.mean_temp\").item(), pyro.param(\"AutoNormal.scales.mean_temp\").item()))\n",
    "print(\"\")\n",
    "print(\"Posterior Humidity Mean\")\n",
    "print(dist.Normal(pyro.param(\"AutoNormal.locs.mean_humidity\").item(), pyro.param(\"AutoNormal.scales.mean_humidity\").item()))\n",
    "print(\"\")\n",
    "print(\"Posterior alpha\")\n",
    "print(dist.Normal(pyro.param(\"AutoNormal.locs.alpha\").item(), pyro.param(\"AutoNormal.scales.alpha\").item()))\n",
    "print(\"\")\n",
    "print(\"Posterior beta\")\n",
    "print(dist.Normal(pyro.param(\"AutoNormal.locs.beta\").item(), pyro.param(\"AutoNormal.scales.beta\").item()))\n",
    "print(\"\")\n",
    "print(\"Posterior Gamma\")\n",
    "print(dist.Normal(pyro.param(\"AutoNormal.locs.gamma\").item(), pyro.param(\"AutoNormal.scales.gamma\").item()))\n"
   ]
  },
  {
   "cell_type": "markdown",
   "metadata": {},
   "source": [
    "Results somewhat make sense, the less humid it is, the more icecream will be sold"
   ]
  },
  {
   "cell_type": "markdown",
   "metadata": {
    "id": "NCld6GJGL-05"
   },
   "source": [
    "<img src=\"https://github.com/PGM-Lab/probai-2021-pyro/blob/main/Day1/Figures/blue.png?raw=1\" alt=\"Drawing\" width=2000 height=20>\n",
    "\n",
    "# 5.  **Temporal Models**\n",
    "\n",
    "If we expect that there might a temporal dependency between the variables, we can capture this in the model specification.\n",
    "\n",
    "Let us assume that there is a **temporal dependency** between the variables.\n",
    "\n",
    "* E.g. the current real temperature must be similar to the real temperature in the previous time step.\n",
    "\n",
    "This temporal dependency can be modeled using a **for-loop** in Pyro as illustrated in the graphical representation.\n",
    "\n",
    "\n",
    "<img src=\"https://github.com/PGM-Lab/probai-2021-pyro/raw/main/Day1/Figures/tempmodel-temporal-III.png\" alt=\"Drawing\" style=\"width: 350px;\" >\n",
    "\n",
    "Observe how this temporal model shares commonalities with the temporal models that we discussed a couple of lectures a go. "
   ]
  },
  {
   "cell_type": "code",
   "execution_count": 9,
   "metadata": {
    "id": "dSzU0cWeL-05"
   },
   "outputs": [],
   "source": [
    "#The observatons   \n",
    "obs = {'sensor': torch.tensor([18., 18.7, 19.2, 17.8, 20.3, 22.4, 20.3, 21.2, 19.5, 20.1])}\n",
    "\n",
    "def model(obs):\n",
    "    mean_temp = pyro.sample('mean_temp', dist.Normal(15.0, 2.0))\n",
    "    for i in range(obs['sensor'].shape[0]):\n",
    "        if i==0:\n",
    "            temp = pyro.sample(f'temp_{i}', dist.Normal(mean_temp, 2.0))\n",
    "        else:\n",
    "            temp = pyro.sample(f'temp_{i}', dist.Normal(prev_temp, 2.0))\n",
    "        sensor = pyro.sample(f'sensor_{i}', dist.Normal(temp, 1.0), obs=obs['sensor'][i])\n",
    "        prev_temp = temp"
   ]
  },
  {
   "cell_type": "markdown",
   "metadata": {
    "id": "EAnXvUqpJCm1"
   },
   "source": [
    "<img src=\"https://github.com/PGM-Lab/probai-2021-pyro/blob/main/Day1/Figures/blue.png?raw=1\" alt=\"Drawing\" width=2000 height=20>\n",
    "\n",
    "Again, we rely on the **(variational) inference engine** to get the results."
   ]
  },
  {
   "cell_type": "code",
   "execution_count": 10,
   "metadata": {
    "colab": {
     "base_uri": "https://localhost:8080/"
    },
    "id": "XWBFc6w3L-06",
    "outputId": "95a134d4-da55-4aa6-9cab-3e17a03f8ad5"
   },
   "outputs": [
    {
     "name": "stdout",
     "output_type": "stream",
     "text": [
      "Step: 0. Loss: 2015.5972965955734\n",
      "Step: 100. Loss: 267.1860017180443\n",
      "Step: 200. Loss: 58.00642055273056\n",
      "Step: 300. Loss: 28.139065146446228\n",
      "Step: 400. Loss: 22.716069102287292\n",
      "Finished\n"
     ]
    }
   ],
   "source": [
    "import time\n",
    "        \n",
    "#Run inference\n",
    "svi(model, obs)\n",
    "\n",
    "smooth_temp=[]\n",
    "for i in range(obs['sensor'].shape[0]):\n",
    "    smooth_temp.append(pyro.param(f\"AutoNormal.locs.temp_{i}\").item())\n",
    "\n",
    "print('Finished')"
   ]
  },
  {
   "cell_type": "markdown",
   "metadata": {
    "id": "OJHqOj3VL-06"
   },
   "source": [
    "We can now plot the **observed measurements** of the temperature **against** the inferred **real temperature**.\n",
    "\n",
    "* By querying the **local hidden** we can **smooth** the temperature.\n",
    "\n",
    "* The **recovered temperature** is much less noisy than the measured one. "
   ]
  },
  {
   "cell_type": "code",
   "execution_count": 12,
   "metadata": {
    "colab": {
     "base_uri": "https://localhost:8080/",
     "height": 283
    },
    "id": "cesOfH6UL-06",
    "outputId": "6c29c1dc-7b66-4476-f572-fcab827cb85d"
   },
   "outputs": [
    {
     "data": {
      "text/plain": [
       "<matplotlib.legend.Legend at 0x21c822024f0>"
      ]
     },
     "execution_count": 12,
     "metadata": {},
     "output_type": "execute_result"
    },
    {
     "data": {
      "image/png": "[encoded data removed]",
      "text/plain": [
       "<Figure size 640x480 with 1 Axes>"
      ]
     },
     "metadata": {},
     "output_type": "display_data"
    }
   ],
   "source": [
    "plt.plot([18., 18.7, 19.2, 17.8, 20.3, 22.4, 20.3, 21.2, 19.5, 20.1], label='Sensor Temp')\n",
    "plt.plot(smooth_temp, label='Smooth Temp')\n",
    "plt.legend()"
   ]
  },
  {
   "cell_type": "markdown",
   "metadata": {
    "id": "yRDQWC-vL-06"
   },
   "source": [
    "<img src=\"https://github.com/PGM-Lab/probai-2021-pyro/blob/main/Day1/Figures/blue.png?raw=1\" alt=\"Drawing\" width=2000 height=20>\n",
    "\n",
    "### <span style=\"color:red\">Exercise 3:  Temporal Extension of the Iceacream shop model </span> \n",
    "\n",
    "Assume that:\n",
    "* temperature depends of the **temperature in the previous day**.\n",
    "* humidity depends of the **humidity in the previous day**.\n",
    "* sales depends on the **current temperature and humidity**.\n",
    "\n",
    "Use the following **graphical representation for reference**.\n",
    "\n",
    "<img src=\"https://github.com/PGM-Lab/probai-2021-pyro/raw/main/Day1/Figures/icecream-model-temporal.png\" alt=\"Drawing\" width=800 >\n",
    "\n",
    "Note that the plate representation has to be coded in Pyro using a **``for-loop``**."
   ]
  },
  {
   "cell_type": "code",
   "execution_count": 15,
   "metadata": {
    "id": "GevI9bcjL-07"
   },
   "outputs": [],
   "source": [
    "#The observatons   \n",
    "obs = {'sensor': torch.tensor([18., 18.7, 19.2, 17.8, 20.3, 22.4, 20.3, 21.2, 19.5, 20.1]),\n",
    "       'sales': torch.tensor([46., 47., 49., 44., 50., 54., 51., 52., 49., 53.]),\n",
    "       'sensor_humidity': torch.tensor([82.8, 87.6, 69.1, 74.2, 80.3, 94.2, 91.2, 92.2, 99.1, 93.2])}\n",
    "\n",
    "\n",
    "\n",
    "def model(obs):\n",
    "    mean_temp = pyro.sample('mean_temp', dist.Normal(15.0, 2.0))\n",
    "    ## Introduce a random variable \"mean_humidity\"\n",
    "    mean_humidity = pyro.sample('mean_humidity', dist.Normal(80.0, 5.0))\n",
    "\n",
    "\n",
    "    alpha = pyro.sample('alpha', dist.Normal(0.0, 100.0))\n",
    "    beta = pyro.sample('beta', dist.Normal(0.0, 100.0))\n",
    "    ## Introduce a coefficient for the humidity \"gamma\"\n",
    "    gamma = pyro.sample('gamma', dist.Normal(0.0, 100.0))\n",
    "\n",
    "    for i in range(obs['sensor'].shape[0]):\n",
    "        if i==0:\n",
    "            temp = pyro.sample(f'temp_{i}', dist.Normal(mean_temp, 2.0))\n",
    "            #Introduce the 'humidity' variable at time 0.\n",
    "            humidity = pyro.sample(f'humidity_{i}', dist.Normal(mean_humidity, 2.0))\n",
    "        else:\n",
    "            temp = pyro.sample(f'temp_{i}', dist.Normal(prev_temp, 2.0))\n",
    "            #Introduce the f'humidity_{i}' variable defining the transition\n",
    "            humidity = pyro.sample(f'humidity_{i}', dist.Normal(prev_humidity, 2.0))\n",
    "            \n",
    "        sensor = pyro.sample(f'sensor_{i}', dist.Normal(temp, 1.0), obs=obs['sensor'][i])\n",
    "        #Introduce the f'sensor_humidity_{i}' variable. \n",
    "        sensor_humidity = pyro.sample(f'sensor_humidity_{i}', dist.Normal(humidity, 1.0), obs = obs['sensor_humidity'][i])\n",
    "        \n",
    "        #Add the linear dependency for the rate with respect to temp and humidity (keep torch.max to avoid numerical stability issues)\n",
    "        rate = torch.max(torch.tensor(0.001), alpha + beta * temp + gamma * humidity)\n",
    "        sales = pyro.sample(f'sales_{i}', dist.Poisson(rate), obs=obs['sales'][i])\n",
    "\n",
    "        prev_temp = temp\n",
    "        #Keep humidity for the next time step. \n",
    "        prev_humidity = humidity"
   ]
  },
  {
   "cell_type": "markdown",
   "metadata": {
    "id": "BOo487l4L3L1"
   },
   "source": [
    "<img src=\"https://github.com/PGM-Lab/probai-2021-pyro/blob/main/Day1/Figures/blue.png?raw=1\" alt=\"Drawing\" width=2000 height=20>\n",
    "\n",
    "\n",
    "Again we need a guide for performing inference (you need not worry about the details of this part)"
   ]
  },
  {
   "cell_type": "code",
   "execution_count": 16,
   "metadata": {
    "colab": {
     "base_uri": "https://localhost:8080/"
    },
    "id": "tMWwy2UNL-07",
    "outputId": "ea74d3c1-275a-453f-8397-3830e3158d65"
   },
   "outputs": [
    {
     "name": "stdout",
     "output_type": "stream",
     "text": [
      "Step: 0. Loss: 43401.776953458786\n",
      "Step: 100. Loss: 12716.639549076557\n",
      "Step: 200. Loss: 6327.650604993105\n",
      "Step: 300. Loss: 5364.758997529745\n",
      "Step: 400. Loss: 5177.399602115154\n",
      "Step: 500. Loss: 5098.891563475132\n",
      "Step: 600. Loss: 5042.138681471348\n",
      "Step: 700. Loss: 5036.21246778965\n",
      "Step: 800. Loss: 6624.527812302113\n",
      "Step: 900. Loss: 5180.510523587465\n",
      "Finished\n"
     ]
    }
   ],
   "source": [
    "import time\n",
    "        \n",
    "#Run inference\n",
    "svi(model, obs, num_steps=1000)\n",
    "\n",
    "smooth_temp=[]\n",
    "smooth_humidity=[]\n",
    "\n",
    "for i in range(obs['sensor'].shape[0]):\n",
    "    smooth_temp.append(pyro.param(f'AutoNormal.locs.temp_{i}').item())\n",
    "    smooth_humidity.append(pyro.param(f'AutoNormal.locs.humidity_{i}').item())\n",
    "\n",
    "print('Finished')"
   ]
  },
  {
   "cell_type": "markdown",
   "metadata": {
    "id": "LosM2wXBMAFX"
   },
   "source": [
    "<img src=\"https://github.com/PGM-Lab/probai-2021-pyro/blob/main/Day1/Figures/blue.png?raw=1\" alt=\"Drawing\" width=2000 height=20>\n",
    "\n",
    "Again, we can plot the observered measurements of the temperature against the **inferred real temperature** by our model. The **recovered temperature** is much less noisy than the real one."
   ]
  },
  {
   "cell_type": "code",
   "execution_count": 17,
   "metadata": {
    "colab": {
     "base_uri": "https://localhost:8080/",
     "height": 282
    },
    "id": "7kr1dbx-L-07",
    "outputId": "7e4e5df6-d9da-4a94-a87e-18f4899b1119"
   },
   "outputs": [
    {
     "data": {
      "text/plain": [
       "<matplotlib.legend.Legend at 0x21c82f7df70>"
      ]
     },
     "execution_count": 17,
     "metadata": {},
     "output_type": "execute_result"
    },
    {
     "data": {
      "image/png": "[encoded data removed]",
      "text/plain": [
       "<Figure size 640x480 with 1 Axes>"
      ]
     },
     "metadata": {},
     "output_type": "display_data"
    }
   ],
   "source": [
    "plt.plot([18., 18.7, 19.2, 17.8, 20.3, 22.4, 20.3, 21.2, 19.5, 20.1], label='Sensor Temp')\n",
    "plt.plot(smooth_temp, label='Smooth Temp')\n",
    "plt.legend()"
   ]
  },
  {
   "cell_type": "markdown",
   "metadata": {
    "id": "QStTTd9nN56M"
   },
   "source": [
    "We can also plot the observered measurements of the humidity against the **inferred real humidity** by our model. The **recovered humidity** is much less noisy than the real one."
   ]
  },
  {
   "cell_type": "code",
   "execution_count": 18,
   "metadata": {
    "colab": {
     "base_uri": "https://localhost:8080/",
     "height": 282
    },
    "id": "WD7n3v9oL-08",
    "outputId": "552faaeb-89bd-4766-e80e-cb330d78e51d"
   },
   "outputs": [
    {
     "data": {
      "text/plain": [
       "<matplotlib.legend.Legend at 0x21c82d3c640>"
      ]
     },
     "execution_count": 18,
     "metadata": {},
     "output_type": "execute_result"
    },
    {
     "data": {
      "image/png": "[encoded data removed]",
      "text/plain": [
       "<Figure size 640x480 with 1 Axes>"
      ]
     },
     "metadata": {},
     "output_type": "display_data"
    }
   ],
   "source": [
    "humidity = torch.tensor([82.8, 87.6, 69.1, 74.2, 80.3, 94.2, 91.2, 92.2, 99.1, 93.2])\n",
    "plt.plot(humidity.detach().numpy(), label='Sensor Humidity')\n",
    "plt.plot(smooth_humidity, label='Smooth Humidity')\n",
    "plt.legend()"
   ]
  },
  {
   "cell_type": "markdown",
   "metadata": {
    "id": "858lPsjJOTJd"
   },
   "source": [
    "<img src=\"https://github.com/PGM-Lab/probai-2021-pyro/blob/main/Day1/Figures/blue.png?raw=1\" alt=\"Drawing\" width=2000 height=20>\n"
   ]
  }
 ],
 "metadata": {
  "colab": {
   "include_colab_link": true,
   "name": "solutions_PPLs_Intro.ipynb",
   "provenance": []
  },
  "kernelspec": {
   "display_name": "Python 3 (ipykernel)",
   "language": "python",
   "name": "python3"
  },
  "language_info": {
   "codemirror_mode": {
    "name": "ipython",
    "version": 3
   },
   "file_extension": ".py",
   "mimetype": "text/x-python",
   "name": "python",
   "nbconvert_exporter": "python",
   "pygments_lexer": "ipython3",
   "version": "3.8.5"
  }
 },
 "nbformat": 4,
 "nbformat_minor": 4
}
