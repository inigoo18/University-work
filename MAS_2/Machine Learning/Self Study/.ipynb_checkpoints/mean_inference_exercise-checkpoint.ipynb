{
 "cells": [
  {
   "cell_type": "code",
   "execution_count": 228,
   "metadata": {},
   "outputs": [],
   "source": [
    "import pyro\n",
    "import torch\n",
    "from pyro.optim import SGD, Adam\n",
    "import pyro.distributions as dist\n",
    "from torch.distributions import constraints\n",
    "import numpy as np\n",
    "import matplotlib.pyplot as plt\n",
    "from scipy.stats import beta, norm\n",
    "%matplotlib inline\n",
    "\n",
    "import os\n",
    "os.environ['KMP_DUPLICATE_LIB_OK']='True'"
   ]
  },
  {
   "cell_type": "markdown",
   "metadata": {},
   "source": [
    "## Introduction\n",
    "\n",
    "In this notebook we the simple generative model from Slide 18, which you also experimented with in the notebook *student_BBVI.ipynb*:\n",
    " * https://www.moodle.aau.dk/mod/resource/view.php?id=1049031\n",
    "\n",
    "In the previous notebook we derived the required gradients manually. Here we instead rely on differentiation functionality in Pyro, which, in turn is based n PyTorch."
   ]
  },
  {
   "cell_type": "markdown",
   "metadata": {},
   "source": [
    "## The model in plate notation\n",
    "\n",
    "<img src=\"https://www.moodle.aau.dk/pluginfile.php/1695750/mod_folder/content/0/mean_model.png?forcedownload=1\" width=\"600\">"
   ]
  },
  {
   "cell_type": "markdown",
   "metadata": {},
   "source": [
    "## The model defined in Pyro\n",
    "\n",
    "Here we define the probabilistic model. Notice the close resemblance with the plate specification above."
   ]
  },
  {
   "cell_type": "code",
   "execution_count": 229,
   "metadata": {},
   "outputs": [],
   "source": [
    "def mean_model(data):\n",
    "\n",
    "    # Define the random variable mu having a noral distribution as prior\n",
    "    mu = pyro.sample(\"mu\", dist.Normal(0.0,1000.0))\n",
    "    std = pyro.sample(\"std\", dist.Normal(0.0,1000.0))\n",
    "\n",
    "    # and now the plate holding the observations. The number of observations are determined by the data set \n",
    "    # supplied to the function. \n",
    "    with pyro.plate(\"x_plate\"):\n",
    "        pyro.sample(f\"X\", dist.Normal(mu, std), obs=data)"
   ]
  },
  {
   "cell_type": "markdown",
   "metadata": {},
   "source": [
    "## The variational distribution\n",
    "\n",
    "In Pyro the variational distribution is defined as a so-called guide. In this example our variational distribution is a beta distribution with parameters q_alpha and q_beta:\n",
    "\n",
    "$$\n",
    "q(\\mu)= \\mathit{Normal}(\\mu | q_{mu}, 1)\n",
    "$$"
   ]
  },
  {
   "cell_type": "code",
   "execution_count": 230,
   "metadata": {},
   "outputs": [],
   "source": [
    "def mean_guide(data):\n",
    "\n",
    "    # We initialize the variational parameter to 0.0. \n",
    "    q_mu = pyro.param(\"q_mu\", torch.tensor(0.0))\n",
    "    q_std = pyro.param(\"q_std\", torch.tensor(1.0), constraint=constraints.greater_than(1))\n",
    "\n",
    "    # The name of the random variable of the variational distribution must match the name of the corresponding\n",
    "    # variable in the model exactly.\n",
    "    pyro.sample(\"mu\", dist.Normal(q_mu, .5))\n",
    "    pyro.sample(\"std\", dist.Normal(q_std, .1))"
   ]
  },
  {
   "cell_type": "markdown",
   "metadata": {},
   "source": [
    "## Learning\n",
    "\n",
    "Here we encapsulate the learning steps, relying on standard stochastic gradient descent"
   ]
  },
  {
   "cell_type": "code",
   "execution_count": 231,
   "metadata": {},
   "outputs": [],
   "source": [
    "def learn(data):\n",
    "\n",
    "    pyro.clear_param_store()\n",
    "\n",
    "    elbo = pyro.infer.Trace_ELBO()\n",
    "    svi = pyro.infer.SVI(model=mean_model,\n",
    "                         guide=mean_guide,\n",
    "                         optim=SGD({'lr':0.005}),\n",
    "                         loss=elbo)\n",
    "\n",
    "    num_steps = 10000\n",
    "    for step in range(num_steps):\n",
    "        loss = svi.step(data)\n",
    "\n",
    "        if step % 500 == 0:\n",
    "            print(f\"Loss for iteration {step}: {loss}\")"
   ]
  },
  {
   "cell_type": "code",
   "execution_count": 232,
   "metadata": {},
   "outputs": [
    {
     "name": "stdout",
     "output_type": "stream",
     "text": [
      "Loss for iteration 0: 4310.8641756772995\n",
      "Loss for iteration 500: 170.3540551662445\n",
      "Loss for iteration 1000: 187.85804998874664\n",
      "Loss for iteration 1500: 169.66807579994202\n",
      "Loss for iteration 2000: 173.50880825519562\n",
      "Loss for iteration 2500: 162.97426652908325\n",
      "Loss for iteration 3000: 240.94647252559662\n",
      "Loss for iteration 3500: 174.7058469057083\n",
      "Loss for iteration 4000: 172.7148094177246\n",
      "Loss for iteration 4500: 171.8292344212532\n",
      "Loss for iteration 5000: 165.93359869718552\n",
      "Loss for iteration 5500: 162.81972455978394\n",
      "Loss for iteration 6000: 172.80871975421906\n",
      "Loss for iteration 6500: 164.4071517586708\n",
      "Loss for iteration 7000: 162.42302745580673\n",
      "Loss for iteration 7500: 161.8686079978943\n",
      "Loss for iteration 8000: 162.49514856934547\n",
      "Loss for iteration 8500: 170.01068967580795\n",
      "Loss for iteration 9000: 163.41812324523926\n",
      "Loss for iteration 9500: 161.98534113168716\n"
     ]
    }
   ],
   "source": [
    "data = torch.tensor(np.random.normal(loc=10.0, scale=1.0, size=100),dtype=torch.float)\n",
    "learn(data)"
   ]
  },
  {
   "cell_type": "markdown",
   "metadata": {},
   "source": [
    "Get the learned variational parameter"
   ]
  },
  {
   "cell_type": "markdown",
   "metadata": {},
   "source": [
    "## The learned parameter"
   ]
  },
  {
   "cell_type": "code",
   "execution_count": 233,
   "metadata": {},
   "outputs": [],
   "source": [
    "qmu = pyro.param(\"q_mu\").item()\n",
    "qstd = pyro.param(\"q_std\").item()"
   ]
  },
  {
   "cell_type": "code",
   "execution_count": 234,
   "metadata": {},
   "outputs": [
    {
     "name": "stdout",
     "output_type": "stream",
     "text": [
      "Mean of vaiational distribution: 10.179349899291992 +- 1.0\n"
     ]
    }
   ],
   "source": [
    "print(f\"Mean of vaiational distribution: {qmu} +- {qstd}\")"
   ]
  },
  {
   "cell_type": "markdown",
   "metadata": {},
   "source": [
    "## Exercise\n",
    "* Adapt the code above to accomodate a slight more rich variational distribution, where we also have a variational parameter for the standard deviation:\n",
    "$$\n",
    "q(\\mu)= \\mathit{Normal}(\\mu | q_{mu}, q_{std})\n",
    "$$\n",
    "* Experiment with different data sets and parameter values. Try visualizing the variational posterior distribution."
   ]
  },
  {
   "cell_type": "code",
   "execution_count": 235,
   "metadata": {},
   "outputs": [
    {
     "data": {
      "image/png": "[encoded data removed]",
      "text/plain": [
       "<Figure size 640x480 with 1 Axes>"
      ]
     },
     "metadata": {},
     "output_type": "display_data"
    }
   ],
   "source": [
    "plt.plot(np.arange(-100,100), norm.pdf(np.arange(-100,100), np.mean(data.tolist()), np.std(data.tolist())), label = \"True distr.\")\n",
    "plt.plot(np.arange(-100,100), norm.pdf(np.arange(-100,100), qmu, qstd), label = \"Variational distr.\")\n",
    "plt.legend()\n",
    "plt.show()"
   ]
  },
  {
   "cell_type": "code",
   "execution_count": 236,
   "metadata": {},
   "outputs": [
    {
     "data": {
      "text/plain": [
       "tensor([ 8.9038, 11.5093,  9.7199,  9.4996, 10.6709,  8.3955, 10.4286,  7.3179,\n",
       "         9.6157,  9.6083,  9.6213, 10.3515, 10.4260, 11.8040, 11.2321,  9.7449,\n",
       "         9.2230, 11.2482, 11.3122, 11.1950,  8.7534,  9.9688,  9.0190,  9.3832,\n",
       "        10.9504, 11.8491,  9.5834, 10.1692, 10.5671, 10.6712,  9.9288, 10.2508,\n",
       "         8.8706,  9.4590, 10.8435, 10.4574, 11.5834,  9.4962, 10.4867, 10.9838,\n",
       "         8.4248,  8.9680, 10.8756,  9.3099, 11.0367,  8.9797,  9.1106,  9.9130,\n",
       "         9.6969,  9.9460, 10.5713,  9.0395,  9.5373,  9.3424,  9.5098,  9.4125,\n",
       "         9.6269, 10.6845,  9.0767, 10.0330,  9.5837, 10.8750, 10.0435,  9.2480,\n",
       "        11.5428,  8.9031, 10.1166,  8.6387, 10.2853, 10.3854, 10.9019,  9.7613,\n",
       "         9.9989,  8.9655,  9.2195, 12.2997, 12.2250,  9.2393, 10.8847,  8.7026,\n",
       "         9.5549, 10.5908,  8.9136,  9.8365, 11.5046,  8.5988, 11.8979,  8.4678,\n",
       "         9.0754,  9.1729,  9.0544, 10.2838,  7.4703,  8.8502,  9.0985, 10.1519,\n",
       "        11.7929,  9.3996,  8.1502, 11.3531])"
      ]
     },
     "execution_count": 236,
     "metadata": {},
     "output_type": "execute_result"
    }
   ],
   "source": [
    "data"
   ]
  }
 ],
 "metadata": {
  "kernelspec": {
   "display_name": "Python 3 (ipykernel)",
   "language": "python",
   "name": "python3"
  },
  "language_info": {
   "codemirror_mode": {
    "name": "ipython",
    "version": 3
   },
   "file_extension": ".py",
   "mimetype": "text/x-python",
   "name": "python",
   "nbconvert_exporter": "python",
   "pygments_lexer": "ipython3",
   "version": "3.8.5"
  }
 },
 "nbformat": 4,
 "nbformat_minor": 4
}
